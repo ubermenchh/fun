{
  "nbformat": 4,
  "nbformat_minor": 0,
  "metadata": {
    "colab": {
      "provenance": [],
      "authorship_tag": "ABX9TyOgxz3kgaNtIbXO+YNGZ6vs"
    },
    "kernelspec": {
      "name": "python3",
      "display_name": "Python 3"
    },
    "language_info": {
      "name": "python"
    }
  },
  "cells": [
    {
      "cell_type": "code",
      "execution_count": 1,
      "metadata": {
        "colab": {
          "base_uri": "https://localhost:8080/"
        },
        "id": "e8aONkXCOSMx",
        "outputId": "f91cb4e6-026f-45b2-97e2-0efb654a3b21"
      },
      "outputs": [
        {
          "output_type": "stream",
          "name": "stdout",
          "text": [
            "--2023-10-09 06:59:50--  https://raw.githubusercontent.com/karpathy/char-rnn/master/data/tinyshakespeare/input.txt\n",
            "Resolving raw.githubusercontent.com (raw.githubusercontent.com)... 185.199.108.133, 185.199.109.133, 185.199.110.133, ...\n",
            "Connecting to raw.githubusercontent.com (raw.githubusercontent.com)|185.199.108.133|:443... connected.\n",
            "HTTP request sent, awaiting response... 200 OK\n",
            "Length: 1115394 (1.1M) [text/plain]\n",
            "Saving to: ‘input.txt’\n",
            "\n",
            "input.txt           100%[===================>]   1.06M  --.-KB/s    in 0.07s   \n",
            "\n",
            "2023-10-09 06:59:51 (16.1 MB/s) - ‘input.txt’ saved [1115394/1115394]\n",
            "\n"
          ]
        }
      ],
      "source": [
        "!wget https://raw.githubusercontent.com/karpathy/char-rnn/master/data/tinyshakespeare/input.txt\n"
      ]
    },
    {
      "cell_type": "code",
      "source": [
        "with open('input.txt', 'r') as f:\n",
        "    text = f.read()"
      ],
      "metadata": {
        "id": "KKkoPXLJPADE"
      },
      "execution_count": 2,
      "outputs": []
    },
    {
      "cell_type": "code",
      "source": [
        "len(text)"
      ],
      "metadata": {
        "colab": {
          "base_uri": "https://localhost:8080/"
        },
        "id": "wQk5TH6QPGTY",
        "outputId": "b2c4d0a0-32d1-4ce1-9699-eaecd1ec58da"
      },
      "execution_count": 3,
      "outputs": [
        {
          "output_type": "execute_result",
          "data": {
            "text/plain": [
              "1115394"
            ]
          },
          "metadata": {},
          "execution_count": 3
        }
      ]
    },
    {
      "cell_type": "code",
      "source": [
        "print(text[:1000])"
      ],
      "metadata": {
        "colab": {
          "base_uri": "https://localhost:8080/"
        },
        "id": "9qsicT1SPHMq",
        "outputId": "71fb08a6-28be-48b8-8c72-cfe8f8bebeaf"
      },
      "execution_count": 4,
      "outputs": [
        {
          "output_type": "stream",
          "name": "stdout",
          "text": [
            "First Citizen:\n",
            "Before we proceed any further, hear me speak.\n",
            "\n",
            "All:\n",
            "Speak, speak.\n",
            "\n",
            "First Citizen:\n",
            "You are all resolved rather to die than to famish?\n",
            "\n",
            "All:\n",
            "Resolved. resolved.\n",
            "\n",
            "First Citizen:\n",
            "First, you know Caius Marcius is chief enemy to the people.\n",
            "\n",
            "All:\n",
            "We know't, we know't.\n",
            "\n",
            "First Citizen:\n",
            "Let us kill him, and we'll have corn at our own price.\n",
            "Is't a verdict?\n",
            "\n",
            "All:\n",
            "No more talking on't; let it be done: away, away!\n",
            "\n",
            "Second Citizen:\n",
            "One word, good citizens.\n",
            "\n",
            "First Citizen:\n",
            "We are accounted poor citizens, the patricians good.\n",
            "What authority surfeits on would relieve us: if they\n",
            "would yield us but the superfluity, while it were\n",
            "wholesome, we might guess they relieved us humanely;\n",
            "but they think we are too dear: the leanness that\n",
            "afflicts us, the object of our misery, is as an\n",
            "inventory to particularise their abundance; our\n",
            "sufferance is a gain to them Let us revenge this with\n",
            "our pikes, ere we become rakes: for the gods know I\n",
            "speak this in hunger for bread, not in thirst for revenge.\n",
            "\n",
            "\n"
          ]
        }
      ]
    },
    {
      "cell_type": "code",
      "source": [
        "chars = sorted(list(set(text)))\n",
        "vocab_size = len(chars)"
      ],
      "metadata": {
        "id": "_aDGV-nBPIqN"
      },
      "execution_count": 5,
      "outputs": []
    },
    {
      "cell_type": "code",
      "source": [
        "print(''.join(chars))\n",
        "vocab_size"
      ],
      "metadata": {
        "colab": {
          "base_uri": "https://localhost:8080/"
        },
        "id": "H6MUEjAoPOjW",
        "outputId": "ac87d6e9-687f-4b04-be72-320aa50d86b4"
      },
      "execution_count": 6,
      "outputs": [
        {
          "output_type": "stream",
          "name": "stdout",
          "text": [
            "\n",
            " !$&',-.3:;?ABCDEFGHIJKLMNOPQRSTUVWXYZabcdefghijklmnopqrstuvwxyz\n"
          ]
        },
        {
          "output_type": "execute_result",
          "data": {
            "text/plain": [
              "65"
            ]
          },
          "metadata": {},
          "execution_count": 6
        }
      ]
    },
    {
      "cell_type": "code",
      "source": [
        "stoi = {ch:i for i, ch in enumerate(chars)}\n",
        "itos = {i:ch for i, ch in enumerate(chars)}"
      ],
      "metadata": {
        "id": "6kgbnnQsPRr3"
      },
      "execution_count": 12,
      "outputs": []
    },
    {
      "cell_type": "code",
      "source": [
        "def encode(s): return [stoi[c] for c in s]\n",
        "def decode(l): return ''.join([itos[s] for s in l])"
      ],
      "metadata": {
        "id": "wr2l_kRMParb"
      },
      "execution_count": 13,
      "outputs": []
    },
    {
      "cell_type": "code",
      "source": [
        "print(encode('Hello there. General Kenobi!!'))"
      ],
      "metadata": {
        "colab": {
          "base_uri": "https://localhost:8080/"
        },
        "id": "Jnl9LLQiPmz2",
        "outputId": "5bb92898-33bd-4070-9abe-941f1ad00b33"
      },
      "execution_count": 14,
      "outputs": [
        {
          "output_type": "stream",
          "name": "stdout",
          "text": [
            "[20, 43, 50, 50, 53, 1, 58, 46, 43, 56, 43, 8, 1, 19, 43, 52, 43, 56, 39, 50, 1, 23, 43, 52, 53, 40, 47, 2, 2]\n"
          ]
        }
      ]
    },
    {
      "cell_type": "code",
      "source": [
        "print(decode([20, 43, 50, 50, 53, 1, 58, 46, 43, 56, 43, 8, 1, 19, 43, 52, 43, 56, 39, 50, 1, 23, 43, 52, 53, 40, 47, 2, 2]))"
      ],
      "metadata": {
        "colab": {
          "base_uri": "https://localhost:8080/"
        },
        "id": "dt35ONTfPweO",
        "outputId": "390d298f-afa5-4498-d55a-ef13fcb566ca"
      },
      "execution_count": 15,
      "outputs": [
        {
          "output_type": "stream",
          "name": "stdout",
          "text": [
            "Hello there. General Kenobi!!\n"
          ]
        }
      ]
    },
    {
      "cell_type": "code",
      "source": [
        "import torch"
      ],
      "metadata": {
        "id": "8WSEt42WQCtC"
      },
      "execution_count": 16,
      "outputs": []
    },
    {
      "cell_type": "code",
      "source": [
        "data = torch.tensor(encode(text), dtype=torch.long)"
      ],
      "metadata": {
        "id": "jnPYnYLeP1_2"
      },
      "execution_count": 17,
      "outputs": []
    },
    {
      "cell_type": "code",
      "source": [
        "n = int(0.9 * len(data))\n",
        "train_data = data[:n]\n",
        "val_data = data[n:]"
      ],
      "metadata": {
        "id": "05IQsbDxQD3Z"
      },
      "execution_count": 18,
      "outputs": []
    },
    {
      "cell_type": "code",
      "source": [
        "block_size = 8\n",
        "train_data[:block_size+1]"
      ],
      "metadata": {
        "colab": {
          "base_uri": "https://localhost:8080/"
        },
        "id": "R4ztmAjaQZr1",
        "outputId": "e51dcd31-2492-4a66-e657-96b9a54babef"
      },
      "execution_count": 19,
      "outputs": [
        {
          "output_type": "execute_result",
          "data": {
            "text/plain": [
              "tensor([18, 47, 56, 57, 58,  1, 15, 47, 58])"
            ]
          },
          "metadata": {},
          "execution_count": 19
        }
      ]
    },
    {
      "cell_type": "code",
      "source": [
        "x = train_data[:block_size+1]\n",
        "y = train_data[1:block_size+1]\n",
        "x, y"
      ],
      "metadata": {
        "colab": {
          "base_uri": "https://localhost:8080/"
        },
        "id": "ko9TNR36QjER",
        "outputId": "bd8fc7db-221a-45b7-9a2b-5ccc19d7fc17"
      },
      "execution_count": 20,
      "outputs": [
        {
          "output_type": "execute_result",
          "data": {
            "text/plain": [
              "(tensor([18, 47, 56, 57, 58,  1, 15, 47, 58]),\n",
              " tensor([47, 56, 57, 58,  1, 15, 47, 58]))"
            ]
          },
          "metadata": {},
          "execution_count": 20
        }
      ]
    },
    {
      "cell_type": "code",
      "source": [
        "for t in range(block_size):\n",
        "    context = x[:t+1]\n",
        "    target = y[t]\n",
        "    print('ctx', context, 'target', target)"
      ],
      "metadata": {
        "colab": {
          "base_uri": "https://localhost:8080/"
        },
        "id": "GwUsyDTxQpsl",
        "outputId": "369f9e71-55cf-4db6-aae7-0664e6425a9e"
      },
      "execution_count": 21,
      "outputs": [
        {
          "output_type": "stream",
          "name": "stdout",
          "text": [
            "ctx tensor([18]) target tensor(47)\n",
            "ctx tensor([18, 47]) target tensor(56)\n",
            "ctx tensor([18, 47, 56]) target tensor(57)\n",
            "ctx tensor([18, 47, 56, 57]) target tensor(58)\n",
            "ctx tensor([18, 47, 56, 57, 58]) target tensor(1)\n",
            "ctx tensor([18, 47, 56, 57, 58,  1]) target tensor(15)\n",
            "ctx tensor([18, 47, 56, 57, 58,  1, 15]) target tensor(47)\n",
            "ctx tensor([18, 47, 56, 57, 58,  1, 15, 47]) target tensor(58)\n"
          ]
        }
      ]
    },
    {
      "cell_type": "code",
      "source": [
        "import torch.nn as nn\n",
        "import torch.nn.functional as F"
      ],
      "metadata": {
        "id": "O4eRsr3iQ3Be"
      },
      "execution_count": 23,
      "outputs": []
    },
    {
      "cell_type": "code",
      "source": [
        "batch_size = 4\n",
        "block_size = 8"
      ],
      "metadata": {
        "id": "pMLHMeiDRIfX"
      },
      "execution_count": 24,
      "outputs": []
    },
    {
      "cell_type": "code",
      "source": [
        "def get_batch(split):\n",
        "    data = train_data if split == 'train' else val_data\n",
        "    ix = torch.randint(len(data) - block_size, (batch_size,))\n",
        "    x = torch.stack([data[i:i+block_size] for i in ix])\n",
        "    y = torch.stack([data[i+1:i+block_size+1] for i in ix])\n",
        "    return x, y"
      ],
      "metadata": {
        "id": "glLdqpSmRn-p"
      },
      "execution_count": 25,
      "outputs": []
    },
    {
      "cell_type": "code",
      "source": [
        "xb, yb = get_batch('train')"
      ],
      "metadata": {
        "id": "jz_5OF3IR_j1"
      },
      "execution_count": 26,
      "outputs": []
    },
    {
      "cell_type": "code",
      "source": [
        "for b in range(batch_size):\n",
        "    for t in range(block_size):\n",
        "        context = xb[b][:t+1]\n",
        "        target = yb[b][t]\n",
        "        print(context, '-----', target)"
      ],
      "metadata": {
        "colab": {
          "base_uri": "https://localhost:8080/"
        },
        "id": "xxtunwLvSOib",
        "outputId": "92aab92e-ace2-4140-f9ed-122631cf7c77"
      },
      "execution_count": 29,
      "outputs": [
        {
          "output_type": "stream",
          "name": "stdout",
          "text": [
            "tensor([57]) ----- tensor(1)\n",
            "tensor([57,  1]) ----- tensor(61)\n",
            "tensor([57,  1, 61]) ----- tensor(43)\n",
            "tensor([57,  1, 61, 43]) ----- tensor(50)\n",
            "tensor([57,  1, 61, 43, 50]) ----- tensor(50)\n",
            "tensor([57,  1, 61, 43, 50, 50]) ----- tensor(11)\n",
            "tensor([57,  1, 61, 43, 50, 50, 11]) ----- tensor(0)\n",
            "tensor([57,  1, 61, 43, 50, 50, 11,  0]) ----- tensor(32)\n",
            "tensor([27]) ----- tensor(10)\n",
            "tensor([27, 10]) ----- tensor(0)\n",
            "tensor([27, 10,  0]) ----- tensor(21)\n",
            "tensor([27, 10,  0, 21]) ----- tensor(44)\n",
            "tensor([27, 10,  0, 21, 44]) ----- tensor(1)\n",
            "tensor([27, 10,  0, 21, 44,  1]) ----- tensor(50)\n",
            "tensor([27, 10,  0, 21, 44,  1, 50]) ----- tensor(53)\n",
            "tensor([27, 10,  0, 21, 44,  1, 50, 53]) ----- tensor(60)\n",
            "tensor([42]) ----- tensor(10)\n",
            "tensor([42, 10]) ----- tensor(0)\n",
            "tensor([42, 10,  0]) ----- tensor(20)\n",
            "tensor([42, 10,  0, 20]) ----- tensor(53)\n",
            "tensor([42, 10,  0, 20, 53]) ----- tensor(61)\n",
            "tensor([42, 10,  0, 20, 53, 61]) ----- tensor(1)\n",
            "tensor([42, 10,  0, 20, 53, 61,  1]) ----- tensor(47)\n",
            "tensor([42, 10,  0, 20, 53, 61,  1, 47]) ----- tensor(44)\n",
            "tensor([53]) ----- tensor(50)\n",
            "tensor([53, 50]) ----- tensor(63)\n",
            "tensor([53, 50, 63]) ----- tensor(1)\n",
            "tensor([53, 50, 63,  1]) ----- tensor(49)\n",
            "tensor([53, 50, 63,  1, 49]) ----- tensor(47)\n",
            "tensor([53, 50, 63,  1, 49, 47]) ----- tensor(57)\n",
            "tensor([53, 50, 63,  1, 49, 47, 57]) ----- tensor(57)\n",
            "tensor([53, 50, 63,  1, 49, 47, 57, 57]) ----- tensor(8)\n"
          ]
        }
      ]
    },
    {
      "cell_type": "code",
      "source": [
        "def get_decay_matrix(dim, gamma):\n",
        "    d = torch.ones(dim)\n",
        "    d = torch.tril(d) # lower triangular matrix\n",
        "\n",
        "    for index, head in enumerate(d):\n",
        "        g = gamma[index]\n",
        "        for idx, x in enumerate(torch.tril(head)):\n",
        "            for idy, y in enumerate(x):\n",
        "                if idx >= idy:\n",
        "                    head[idx][idy] = g ** (idx-idy)\n",
        "    return d"
      ],
      "metadata": {
        "id": "ssd-r30sSbAi"
      },
      "execution_count": 30,
      "outputs": []
    },
    {
      "cell_type": "code",
      "source": [
        "!pip install -q einops"
      ],
      "metadata": {
        "colab": {
          "base_uri": "https://localhost:8080/"
        },
        "id": "p-4SQX0_VSD9",
        "outputId": "e3abb781-9d19-45a2-b390-93b48ba36311"
      },
      "execution_count": 31,
      "outputs": [
        {
          "output_type": "stream",
          "name": "stdout",
          "text": [
            "\u001b[?25l     \u001b[90m━━━━━━━━━━━━━━━━━━━━━━━━━━━━━━━━━━━━━━━━\u001b[0m \u001b[32m0.0/44.6 kB\u001b[0m \u001b[31m?\u001b[0m eta \u001b[36m-:--:--\u001b[0m\r\u001b[2K     \u001b[90m━━━━━━━━━━━━━━━━━━━━━━━━━━━━━━━━━━━━━━━━\u001b[0m \u001b[32m44.6/44.6 kB\u001b[0m \u001b[31m1.2 MB/s\u001b[0m eta \u001b[36m0:00:00\u001b[0m\n",
            "\u001b[?25h"
          ]
        }
      ]
    },
    {
      "cell_type": "code",
      "source": [
        "import einops\n",
        "from einops import rearrange, reduce, repeat"
      ],
      "metadata": {
        "id": "-gs-S_s9UpU1"
      },
      "execution_count": 32,
      "outputs": []
    },
    {
      "cell_type": "code",
      "source": [
        "class ChunkwiseRetention(nn.Module):\n",
        "    def __init__(self, chunk_size, num_head, block_size):\n",
        "        super().__init__()\n",
        "        self.key = nn.Linear(n_embed, chunk_size*num_head, bias=False)\n",
        "        self.query = nn.Linear(n_embed, chunk_size*num_head, bias=False)\n",
        "        self.value = nn.Linear(n_embed, chunk_size*num_head, bias=False)\n",
        "        self.gamma = 1.0-2.0**(-5-torch.arange(0, num_head))\n",
        "        self.decay_mask = get_decay_matrix((num_head, block_size, block_size), self.gamma)\n",
        "        self.chunk_decay = self.gamma\n",
        "        self.gn = nn.GroupNorm(1, num_head)\n",
        "        self.num_head = num_head\n",
        "        self.chunk_size = chunk_size\n",
        "\n",
        "    def forward(self, x, past_kv):\n",
        "        B, T, C = x.shape\n",
        "        k = self.key(x)\n",
        "        q = self.query(x)\n",
        "        v = self.value(x)\n",
        "\n",
        "        k = rearrange(k, ('b t (h c) -> b h t c'), t=T, h=self.num_head, c=self.chunk_size)\n",
        "        q = rearrange(q, ('b t (h c) -> b h t c'), t=T, h=self.num_head, c=self.chunk_size)\n",
        "        v = rearrange(v, ('b t (h c) -> b h t c'), t=T, h=self.num_head, c=self.chunk_size)\n",
        "\n",
        "        retention = q @ k.transpose(-1, -2)\n",
        "        retention = retention * self.decay_mask\n",
        "        inner_retention = retention @ v\n",
        "\n",
        "        past_kv = repeat(past_kv, 'n q v -> B n q v', B=B)\n",
        "        pb, pn, pq, pv = past_kv.shape\n",
        "\n",
        "        padding = torch.zeros(pb, pn, pq, self.chunk_size)\n",
        "        past_kv = past_kv + padding\n",
        "\n",
        "        dm = repeat(self.decay_mask, 'h c d -> B h c d', B=B)\n",
        "        pp = q @ past_kv\n",
        "        cross_retention = pp.transpose(-1, -2) @ dm\n",
        "        cross_retention = cross_retention.transpose(-1, -2)\n",
        "\n",
        "        retention = inner_retention + cross_retention\n",
        "\n",
        "        current_kv = self.gamma.view(self.num_head, 1, 1) * past_kv + (k.transpose(-1, -2) @ v)\n",
        "        output = self.gn(retention.transpose(-1, -2))\n",
        "        output = rearrange(output, 'b c h t -> b t (c h)')\n",
        "        return output, current_kv.mean(dim=0)"
      ],
      "metadata": {
        "id": "tYItr4SlVUT6"
      },
      "execution_count": 54,
      "outputs": []
    },
    {
      "cell_type": "code",
      "source": [
        "class GatedMultiScaleRetention(nn.Module):\n",
        "    def __init__(self, chunk_size, num_head, block_size):\n",
        "        super().__init__()\n",
        "        self.wg = nn.Linear(n_embed, n_embed, bias=False)\n",
        "        self.act = nn.SiLU()\n",
        "        self.y = ChunkwiseRetention(num_head=n_head, chunk_size=n_embed//n_head, block_size=block_size)\n",
        "        self.wo = nn.Linear(n_embed, n_embed, bias=False)\n",
        "        self.past = torch.zeros(num_head, chunk_size, chunk_size)\n",
        "\n",
        "    def forward(self, x):\n",
        "        wgx = self.wg(x)\n",
        "        wgx = self.act(wgx)\n",
        "        y, past = self.y(wgx, self.past)\n",
        "        y = wgx * y\n",
        "        return self.wo(y)"
      ],
      "metadata": {
        "id": "gqc6G-OOZWfL"
      },
      "execution_count": 55,
      "outputs": []
    },
    {
      "cell_type": "code",
      "source": [
        "class FeedForward(nn.Module):\n",
        "    def __init__(self, n_embed):\n",
        "        super().__init__()\n",
        "        self.net = nn.Sequential(\n",
        "            nn.Linear(n_embed, 4*n_embed),\n",
        "            nn.GELU(),\n",
        "            nn.Linear(4*n_embed, n_embed),\n",
        "            nn.Dropout(dropout)\n",
        "        )\n",
        "\n",
        "    def forward(self, x):\n",
        "        return self.net(x)"
      ],
      "metadata": {
        "id": "cxN1p30saqG6"
      },
      "execution_count": 56,
      "outputs": []
    },
    {
      "cell_type": "code",
      "source": [
        "class Block(nn.Module):\n",
        "    def __init__(self, n_embed, n_head, block_size):\n",
        "        super().__init__()\n",
        "        self.sa_head = GatedMultiScaleRetention(num_head=n_head, chunk_size=n_embed//n_head, block_size=block_size)\n",
        "        self.ffw = FeedForward(n_embed)\n",
        "        self.ln1 = nn.LayerNorm(n_embed)\n",
        "        self.ln2 = nn.LayerNorm(n_embed)\n",
        "\n",
        "    def forward(self, x):\n",
        "        x = x + self.sa_head(self.ln1(x))\n",
        "        x = x + self.ffw(self.ln2(x))\n",
        "        return x"
      ],
      "metadata": {
        "id": "k_3oBmJlbMuR"
      },
      "execution_count": 57,
      "outputs": []
    },
    {
      "cell_type": "code",
      "source": [
        "class RetNet(nn.Module):\n",
        "    def __init__(self, block_size):\n",
        "        super().__init__()\n",
        "        self.token_embedding_table = nn.Embedding(vocab_size, n_embed)\n",
        "        self.position_embedding_table = nn.Embedding(block_size, n_embed)\n",
        "        self.blocks = nn.Sequential(*[Block(n_embed, n_head=n_head, block_size=block_size) for _ in range(n_layer)])\n",
        "        self.lm_head = nn.Linear(n_embed, vocab_size)\n",
        "\n",
        "    def forward(self, idx, targets=None):\n",
        "        B, T = idx.shape\n",
        "\n",
        "        token_emb = self.token_embedding_table(idx)\n",
        "        pos_emb = self.position_embedding_table(torch.arange(T))\n",
        "        x = token_emb + pos_emb\n",
        "        x = self.blocks(x)\n",
        "        logits = self.lm_head(x)\n",
        "        if targets == None:\n",
        "            loss = None\n",
        "        else:\n",
        "            B, T, C = logits.shape\n",
        "            logits = logits.view(B*T, C)\n",
        "            targets = targets.view(B*T)\n",
        "            loss = F.cross_entropy(logits, targets)\n",
        "        return logits, loss\n",
        "\n",
        "    def generate(self, idx, max_new_tokens):\n",
        "        for _ in range(max_new_tokens):\n",
        "            b, s = idx.shape\n",
        "            bk = min(s, block_size)\n",
        "            idx_cond = torch.cat((torch.zeros(b, block_size-bk, dtype=int), idx), dim=1)[:, -block_size:]\n",
        "            logits, loss = self(idx_cond)\n",
        "            logits = logits[:, -1, :]\n",
        "            probs = F.softmax(logits, dim=-1)\n",
        "            idx_next = torch.multinomial(probs, num_samples=1)\n",
        "            idx = torch.cat((idx, idx_next), dim=1)\n",
        "        return idx"
      ],
      "metadata": {
        "id": "ok-a-xgsb6wn"
      },
      "execution_count": 58,
      "outputs": []
    },
    {
      "cell_type": "code",
      "source": [
        "batch_size = 16\n",
        "block_size = 32\n",
        "max_iters = 10000\n",
        "eval_interval = 100\n",
        "learning_rate = 1e-3\n",
        "device = 'cuda' if torch.cuda.is_available() else 'cpu'\n",
        "eval_iters = 200\n",
        "n_head = 4\n",
        "n_layer = 4\n",
        "dropout = 0.0\n",
        "n_embed = 32"
      ],
      "metadata": {
        "id": "6Irhm-RMeHg8"
      },
      "execution_count": 68,
      "outputs": []
    },
    {
      "cell_type": "code",
      "source": [
        "def get_batch(split, batch_size):\n",
        "    data = train_data if split=='train' else val_data\n",
        "    ix = torch.randint(len(data)-block_size, (batch_size,))\n",
        "    x = torch.stack([data[i:i+block_size] for i in ix])\n",
        "    y = torch.stack([data[i+1:i+block_size+1] for i in ix])\n",
        "    return x, y"
      ],
      "metadata": {
        "id": "lwKatCTKeexC"
      },
      "execution_count": 69,
      "outputs": []
    },
    {
      "cell_type": "code",
      "source": [
        "model = RetNet(block_size=block_size)\n",
        "xb, yb = get_batch('train', batch_size=batch_size)\n",
        "optimizer = torch.optim.AdamW(model.parameters(), lr=learning_rate)\n",
        "logits, loss = model(xb, yb)"
      ],
      "metadata": {
        "id": "0yxhi2Eje8pg"
      },
      "execution_count": 70,
      "outputs": []
    },
    {
      "cell_type": "code",
      "source": [
        "model"
      ],
      "metadata": {
        "colab": {
          "base_uri": "https://localhost:8080/"
        },
        "id": "K32XuJRnfOsy",
        "outputId": "0ffbe5ab-19ba-4d91-cee5-4799a6e8a413"
      },
      "execution_count": 71,
      "outputs": [
        {
          "output_type": "execute_result",
          "data": {
            "text/plain": [
              "RetNet(\n",
              "  (token_embedding_table): Embedding(65, 32)\n",
              "  (position_embedding_table): Embedding(32, 32)\n",
              "  (blocks): Sequential(\n",
              "    (0): Block(\n",
              "      (sa_head): GatedMultiScaleRetention(\n",
              "        (wg): Linear(in_features=32, out_features=32, bias=False)\n",
              "        (act): SiLU()\n",
              "        (y): ChunkwiseRetention(\n",
              "          (key): Linear(in_features=32, out_features=32, bias=False)\n",
              "          (query): Linear(in_features=32, out_features=32, bias=False)\n",
              "          (value): Linear(in_features=32, out_features=32, bias=False)\n",
              "          (gn): GroupNorm(1, 4, eps=1e-05, affine=True)\n",
              "        )\n",
              "        (wo): Linear(in_features=32, out_features=32, bias=False)\n",
              "      )\n",
              "      (ffw): FeedForward(\n",
              "        (net): Sequential(\n",
              "          (0): Linear(in_features=32, out_features=128, bias=True)\n",
              "          (1): GELU(approximate='none')\n",
              "          (2): Linear(in_features=128, out_features=32, bias=True)\n",
              "          (3): Dropout(p=0.0, inplace=False)\n",
              "        )\n",
              "      )\n",
              "      (ln1): LayerNorm((32,), eps=1e-05, elementwise_affine=True)\n",
              "      (ln2): LayerNorm((32,), eps=1e-05, elementwise_affine=True)\n",
              "    )\n",
              "    (1): Block(\n",
              "      (sa_head): GatedMultiScaleRetention(\n",
              "        (wg): Linear(in_features=32, out_features=32, bias=False)\n",
              "        (act): SiLU()\n",
              "        (y): ChunkwiseRetention(\n",
              "          (key): Linear(in_features=32, out_features=32, bias=False)\n",
              "          (query): Linear(in_features=32, out_features=32, bias=False)\n",
              "          (value): Linear(in_features=32, out_features=32, bias=False)\n",
              "          (gn): GroupNorm(1, 4, eps=1e-05, affine=True)\n",
              "        )\n",
              "        (wo): Linear(in_features=32, out_features=32, bias=False)\n",
              "      )\n",
              "      (ffw): FeedForward(\n",
              "        (net): Sequential(\n",
              "          (0): Linear(in_features=32, out_features=128, bias=True)\n",
              "          (1): GELU(approximate='none')\n",
              "          (2): Linear(in_features=128, out_features=32, bias=True)\n",
              "          (3): Dropout(p=0.0, inplace=False)\n",
              "        )\n",
              "      )\n",
              "      (ln1): LayerNorm((32,), eps=1e-05, elementwise_affine=True)\n",
              "      (ln2): LayerNorm((32,), eps=1e-05, elementwise_affine=True)\n",
              "    )\n",
              "    (2): Block(\n",
              "      (sa_head): GatedMultiScaleRetention(\n",
              "        (wg): Linear(in_features=32, out_features=32, bias=False)\n",
              "        (act): SiLU()\n",
              "        (y): ChunkwiseRetention(\n",
              "          (key): Linear(in_features=32, out_features=32, bias=False)\n",
              "          (query): Linear(in_features=32, out_features=32, bias=False)\n",
              "          (value): Linear(in_features=32, out_features=32, bias=False)\n",
              "          (gn): GroupNorm(1, 4, eps=1e-05, affine=True)\n",
              "        )\n",
              "        (wo): Linear(in_features=32, out_features=32, bias=False)\n",
              "      )\n",
              "      (ffw): FeedForward(\n",
              "        (net): Sequential(\n",
              "          (0): Linear(in_features=32, out_features=128, bias=True)\n",
              "          (1): GELU(approximate='none')\n",
              "          (2): Linear(in_features=128, out_features=32, bias=True)\n",
              "          (3): Dropout(p=0.0, inplace=False)\n",
              "        )\n",
              "      )\n",
              "      (ln1): LayerNorm((32,), eps=1e-05, elementwise_affine=True)\n",
              "      (ln2): LayerNorm((32,), eps=1e-05, elementwise_affine=True)\n",
              "    )\n",
              "    (3): Block(\n",
              "      (sa_head): GatedMultiScaleRetention(\n",
              "        (wg): Linear(in_features=32, out_features=32, bias=False)\n",
              "        (act): SiLU()\n",
              "        (y): ChunkwiseRetention(\n",
              "          (key): Linear(in_features=32, out_features=32, bias=False)\n",
              "          (query): Linear(in_features=32, out_features=32, bias=False)\n",
              "          (value): Linear(in_features=32, out_features=32, bias=False)\n",
              "          (gn): GroupNorm(1, 4, eps=1e-05, affine=True)\n",
              "        )\n",
              "        (wo): Linear(in_features=32, out_features=32, bias=False)\n",
              "      )\n",
              "      (ffw): FeedForward(\n",
              "        (net): Sequential(\n",
              "          (0): Linear(in_features=32, out_features=128, bias=True)\n",
              "          (1): GELU(approximate='none')\n",
              "          (2): Linear(in_features=128, out_features=32, bias=True)\n",
              "          (3): Dropout(p=0.0, inplace=False)\n",
              "        )\n",
              "      )\n",
              "      (ln1): LayerNorm((32,), eps=1e-05, elementwise_affine=True)\n",
              "      (ln2): LayerNorm((32,), eps=1e-05, elementwise_affine=True)\n",
              "    )\n",
              "  )\n",
              "  (lm_head): Linear(in_features=32, out_features=65, bias=True)\n",
              ")"
            ]
          },
          "metadata": {},
          "execution_count": 71
        }
      ]
    },
    {
      "cell_type": "code",
      "source": [
        "@torch.no_grad()\n",
        "def estimate_loss():\n",
        "    out = {}\n",
        "    model.eval()\n",
        "    for split in ['train', 'val']:\n",
        "        losses = torch.zeros(eval_iters)\n",
        "        for k in range(eval_iters):\n",
        "            X, Y = get_batch(split, batch_size=batch_size)\n",
        "            logits, loss = model(X, Y)\n",
        "            losses[k] = loss.item()\n",
        "        out[split] = losses.mean()\n",
        "    model.train()\n",
        "    return out"
      ],
      "metadata": {
        "id": "BG5ZCCQDfcHZ"
      },
      "execution_count": 72,
      "outputs": []
    },
    {
      "cell_type": "code",
      "source": [
        "xb, yb = get_batch('train', batch_size=batch_size)\n",
        "logits, loss = model(xb, yb)"
      ],
      "metadata": {
        "id": "yRBe8XL0f_CK"
      },
      "execution_count": 73,
      "outputs": []
    },
    {
      "cell_type": "code",
      "source": [
        "for iter in range(max_iters):\n",
        "    if iter % 100 == 0 or iter == max_iters - 1:\n",
        "        losses = estimate_loss()\n",
        "        print(f\"Step {iter}: Train Loss {losses['train']:.4f}, Val Loss {losses['val']:.4f}\")\n",
        "\n",
        "    xb, yb = get_batch('train', batch_size=batch_size)\n",
        "\n",
        "    logits, loss = model(xb, yb)\n",
        "    optimizer.zero_grad(set_to_none=True)\n",
        "    loss.backward()\n",
        "    optimizer.step()"
      ],
      "metadata": {
        "colab": {
          "base_uri": "https://localhost:8080/"
        },
        "id": "gz9m7lD8gGo_",
        "outputId": "85aef45b-6e36-4577-efb5-1385cf01e3c8"
      },
      "execution_count": 74,
      "outputs": [
        {
          "output_type": "stream",
          "name": "stdout",
          "text": [
            "Step 0: Train Loss 4.6205, Val Loss 4.6019\n",
            "Step 100: Train Loss 2.7909, Val Loss 2.8053\n",
            "Step 200: Train Loss 2.6294, Val Loss 2.6395\n",
            "Step 300: Train Loss 2.5493, Val Loss 2.5615\n",
            "Step 400: Train Loss 2.4626, Val Loss 2.4821\n",
            "Step 500: Train Loss 2.4131, Val Loss 2.4181\n",
            "Step 600: Train Loss 2.4052, Val Loss 2.4017\n",
            "Step 700: Train Loss 2.3533, Val Loss 2.3663\n",
            "Step 800: Train Loss 2.3231, Val Loss 2.3342\n",
            "Step 900: Train Loss 2.3049, Val Loss 2.3162\n",
            "Step 1000: Train Loss 2.2801, Val Loss 2.3030\n",
            "Step 1100: Train Loss 2.2589, Val Loss 2.2668\n",
            "Step 1200: Train Loss 2.2549, Val Loss 2.2736\n",
            "Step 1300: Train Loss 2.2339, Val Loss 2.2449\n",
            "Step 1400: Train Loss 2.2092, Val Loss 2.2348\n",
            "Step 1500: Train Loss 2.1972, Val Loss 2.2160\n",
            "Step 1600: Train Loss 2.1869, Val Loss 2.2161\n",
            "Step 1700: Train Loss 2.1753, Val Loss 2.1883\n",
            "Step 1800: Train Loss 2.1753, Val Loss 2.1905\n",
            "Step 1900: Train Loss 2.1339, Val Loss 2.1647\n",
            "Step 2000: Train Loss 2.1128, Val Loss 2.1374\n",
            "Step 2100: Train Loss 2.1073, Val Loss 2.1290\n",
            "Step 2200: Train Loss 2.0899, Val Loss 2.1178\n",
            "Step 2300: Train Loss 2.0695, Val Loss 2.1050\n",
            "Step 2400: Train Loss 2.0710, Val Loss 2.1044\n",
            "Step 2500: Train Loss 2.0552, Val Loss 2.1024\n",
            "Step 2600: Train Loss 2.0276, Val Loss 2.0640\n",
            "Step 2700: Train Loss 2.0039, Val Loss 2.0364\n",
            "Step 2800: Train Loss 1.9979, Val Loss 2.0254\n",
            "Step 2900: Train Loss 1.9736, Val Loss 2.0169\n",
            "Step 3000: Train Loss 1.9671, Val Loss 1.9926\n",
            "Step 3100: Train Loss 1.9830, Val Loss 2.0130\n",
            "Step 3200: Train Loss 1.9431, Val Loss 1.9879\n",
            "Step 3300: Train Loss 1.9542, Val Loss 1.9861\n",
            "Step 3400: Train Loss 1.9390, Val Loss 1.9640\n",
            "Step 3500: Train Loss 1.9285, Val Loss 1.9649\n",
            "Step 3600: Train Loss 1.9199, Val Loss 1.9533\n",
            "Step 3700: Train Loss 1.9063, Val Loss 1.9277\n",
            "Step 3800: Train Loss 1.8672, Val Loss 1.9095\n",
            "Step 3900: Train Loss 1.8867, Val Loss 1.9143\n",
            "Step 4000: Train Loss 1.8680, Val Loss 1.9064\n",
            "Step 4100: Train Loss 1.8495, Val Loss 1.8792\n",
            "Step 4200: Train Loss 1.8517, Val Loss 1.9135\n",
            "Step 4300: Train Loss 1.8321, Val Loss 1.8787\n",
            "Step 4400: Train Loss 1.8292, Val Loss 1.8785\n",
            "Step 4500: Train Loss 1.8380, Val Loss 1.8706\n",
            "Step 4600: Train Loss 1.8250, Val Loss 1.8683\n",
            "Step 4700: Train Loss 1.7956, Val Loss 1.8423\n",
            "Step 4800: Train Loss 1.8203, Val Loss 1.8546\n",
            "Step 4900: Train Loss 1.7945, Val Loss 1.8469\n",
            "Step 5000: Train Loss 1.8043, Val Loss 1.8445\n",
            "Step 5100: Train Loss 1.7753, Val Loss 1.8241\n",
            "Step 5200: Train Loss 1.7582, Val Loss 1.8133\n",
            "Step 5300: Train Loss 1.7714, Val Loss 1.8180\n",
            "Step 5400: Train Loss 1.7889, Val Loss 1.8237\n",
            "Step 5500: Train Loss 1.7402, Val Loss 1.7916\n",
            "Step 5600: Train Loss 1.7608, Val Loss 1.8131\n",
            "Step 5700: Train Loss 1.7477, Val Loss 1.7949\n",
            "Step 5800: Train Loss 1.7499, Val Loss 1.7864\n",
            "Step 5900: Train Loss 1.7297, Val Loss 1.7747\n",
            "Step 6000: Train Loss 1.7229, Val Loss 1.7703\n",
            "Step 6100: Train Loss 1.7352, Val Loss 1.7645\n",
            "Step 6200: Train Loss 1.7016, Val Loss 1.7485\n",
            "Step 6300: Train Loss 1.7103, Val Loss 1.7528\n",
            "Step 6400: Train Loss 1.6814, Val Loss 1.7232\n",
            "Step 6500: Train Loss 1.6902, Val Loss 1.7311\n",
            "Step 6600: Train Loss 1.7250, Val Loss 1.7619\n",
            "Step 6700: Train Loss 1.6922, Val Loss 1.7339\n",
            "Step 6800: Train Loss 1.7152, Val Loss 1.7580\n",
            "Step 6900: Train Loss 1.6699, Val Loss 1.7226\n",
            "Step 7000: Train Loss 1.6538, Val Loss 1.6931\n",
            "Step 7100: Train Loss 1.6615, Val Loss 1.7160\n",
            "Step 7200: Train Loss 1.6437, Val Loss 1.7018\n",
            "Step 7300: Train Loss 1.6429, Val Loss 1.6995\n",
            "Step 7400: Train Loss 1.6435, Val Loss 1.6920\n",
            "Step 7500: Train Loss 1.6582, Val Loss 1.7167\n",
            "Step 7600: Train Loss 1.6409, Val Loss 1.6916\n",
            "Step 7700: Train Loss 1.6301, Val Loss 1.6914\n",
            "Step 7800: Train Loss 1.6142, Val Loss 1.6697\n",
            "Step 7900: Train Loss 1.6309, Val Loss 1.6823\n",
            "Step 8000: Train Loss 1.6229, Val Loss 1.6773\n",
            "Step 8100: Train Loss 1.6556, Val Loss 1.7002\n",
            "Step 8200: Train Loss 1.6261, Val Loss 1.6686\n",
            "Step 8300: Train Loss 1.6356, Val Loss 1.6903\n",
            "Step 8400: Train Loss 1.6284, Val Loss 1.6828\n",
            "Step 8500: Train Loss 1.5855, Val Loss 1.6374\n",
            "Step 8600: Train Loss 1.5997, Val Loss 1.6591\n",
            "Step 8700: Train Loss 1.6056, Val Loss 1.6507\n",
            "Step 8800: Train Loss 1.5826, Val Loss 1.6372\n",
            "Step 8900: Train Loss 1.6264, Val Loss 1.6870\n",
            "Step 9000: Train Loss 1.6102, Val Loss 1.6611\n",
            "Step 9100: Train Loss 1.5767, Val Loss 1.6369\n",
            "Step 9200: Train Loss 1.5796, Val Loss 1.6320\n",
            "Step 9300: Train Loss 1.5637, Val Loss 1.6121\n",
            "Step 9400: Train Loss 1.5647, Val Loss 1.6330\n",
            "Step 9500: Train Loss 1.5633, Val Loss 1.6184\n",
            "Step 9600: Train Loss 1.5546, Val Loss 1.6146\n",
            "Step 9700: Train Loss 1.5519, Val Loss 1.6153\n",
            "Step 9800: Train Loss 1.6292, Val Loss 1.6747\n",
            "Step 9900: Train Loss 1.5644, Val Loss 1.6154\n",
            "Step 9999: Train Loss 1.5401, Val Loss 1.6145\n"
          ]
        }
      ]
    },
    {
      "cell_type": "code",
      "source": [
        "context = torch.zeros((1, 1), dtype=torch.long, device=device)\n",
        "print(decode(model.generate(context, max_new_tokens=5000)[0].tolist()))"
      ],
      "metadata": {
        "colab": {
          "base_uri": "https://localhost:8080/"
        },
        "id": "gIn2isGzguiT",
        "outputId": "e5ef8430-d61a-45f4-f9b3-9a96d0529ead"
      },
      "execution_count": 75,
      "outputs": [
        {
          "output_type": "stream",
          "name": "stdout",
          "text": [
            "\n",
            "COROLORIOLLIOLCEOLLOT:\n",
            "\n",
            "Win mair withir rhol hin frthe feye ractor friust trann my yod ourllesihe.\n",
            "\n",
            "IOLABR bun thile:\n",
            "Fiver theas y lild.\n",
            "Clin miGors?\n",
            "IONTIAR:\n",
            "Gor arucio netat;\n",
            "My wadeas'st drich staive wey tregel why met. it dicuny an:\n",
            "Manggst aptem desple bain; fag bibd ufiur condesith ariece.\n",
            "TI'd BUSRY AI'CUTIL:\n",
            "ClaM,l that why herdo mer A fonclld,\n",
            "An he sheinw, se pronod worgel thendiod, Is the bealld:\n",
            "Toull'd angrr os hal haTr theach wend whend myr' isis croucure,\n",
            "Asie thak brond, nourd theis domy te he dieest:\n",
            "cor deave; Maut Ca heece bomo? NCOFoutt Mam thy hised,\n",
            "\n",
            "CAuy,l:\n",
            "The pand kavy then Buris Wallon ODf Criver inTRingsts oth womyserd:\n",
            "wiveng lvit dit, the rincit Ad bulibututous.\n",
            "My byour alerd mese tear caing'd ond Tyords dind yey stwounghs,d erer,\n",
            "Chepler id aus calsts iilt he an pof thele le, Cay isend thie st Mquth, And sethilt to\n",
            "Comme:\n",
            "Thif thime lourve'd thow so yourt mur histh ith te dourt\n",
            "Saclly:\n",
            "Bucke de ot kin youRd.\n",
            "PriThich: sthan at esas birpplectt.' bano thak'El Preling y:\n",
            "Whathe bront whe yeand indd.\n",
            "Heer, Vavlree? o.\n",
            "\n",
            "VOLAREO:\n",
            "Lery Ars jo  anof fir sre, mat be imnve.\n",
            "\n",
            "CALUCEENGUS:\n",
            "Matu.:\n",
            "Whif Hand yar fir Rase's whilive ard,\n",
            "Ancten acheren cers coll teres te trineaiks t wrunwril:\n",
            "I'd in anat sthell cotul dum ther\n",
            "sthit Vous Ahurd pour cofreern mends kiny herlf.\n",
            "\n",
            "BOLEERd ABMIZIM:\n",
            "ONCler ur womy avt suy vill tord sh,\n",
            "Elerd twiElr yow thatrle ris here heties, fou win s tho stheat torve knReguld cay meringent bis dot tamanger her barmpleng,\n",
            "CIn mon hererllf, hilst coo\n",
            "It hid mice where\n",
            "Be cend thelt angod hy, wear's byell\n",
            "Wires tend Collip and wrirSthSso ymy serd wond nilses.\n",
            "By fnope, Nous whey hretord ghe, al fand fiath:\n",
            "wis sin bust resen ads, writh:\n",
            "I'Sth gatok hee, theis dimed clibuiybss qeph thely, at, bor mowerce?\n",
            "\n",
            "CARAUHO:\n",
            "NGh werve trufit tham, viver,\n",
            "My mand as,d cot traild, merco be thit my thass's illsee sthe de\n",
            "stra theunds, wa, I'l Salll tidend spe thy sellll; tloby tor sey my thee werd pund relbystt\n",
            "CUBY pomloun wetald,d;\n",
            "Sel comerr an, pay myet\n",
            "Sener wretloo teshe:\n",
            "Ou wa slir shouls tacke jo Menor tillses:\n",
            "Anat: thach fal whiseerell' anol atheen fusinblam.\n",
            "A TtetSithotstr, ar hear thaure!\n",
            "At oue:\n",
            "Nun spar weforl waircty lithe Gor the bal,\n",
            "Thee\n",
            "\n",
            "CLARIABST:\n",
            "Maces yore:\n",
            "Cilout, rinb hallon al,\n",
            "Hard ahel ppty,\n",
            "BOL cond kiravelded youl, relfsl thour upingsbtloak thll aplcthity, Mus aryI swehs trres cruchicud,\n",
            "Wieend ond ymo whinceot mur he lig,\n",
            "Wit Ifaiker akecke ford nors mas dell rathut me wis is mun y his \n",
            "Teyour frer muter thish und fosre el dans for te.nd \n",
            "'dul yoxt irt tRWiven Rolerd Corrckeny,\n",
            "MABENI'd Cll\n",
            "Nel, wo fridI vind fagh!\n",
            "I wiTI I:\n",
            "The hers in Lachil stthe:\n",
            "\n",
            "Shiche-n ans haveby, thed tey sundend thed,\n",
            "OMo westh heir Whou knor trint mende;\n",
            "TAnd VOLI'\n",
            "VOMI:\n",
            "My westheius, is linght tory tis aly ise d seththr. sen iy dorayal, tat seeld,\n",
            "LAs, I'G SAn croomeK:\n",
            "\n",
            "I wisth 'py seveere, n sond yo itCWid ceancy youlteSs\n",
            "Disero, re?'Es Aby I malm:\n",
            "\n",
            "ForstF'Tut dot wro ris mass'dy JOrniur' sFie, healll,\n",
            "FuStt The't tatl an shal de cordine, t nourtht,\n",
            "Wil, vane thel yout diuThe d herp\n",
            "Gond moun couss findrerely axsthads phe that wid sthy thincis wive adinpjucy.\n",
            "Bet, thelses itt pach, badt een;\n",
            "\n",
            "Thand scilt icoust:\n",
            "Con wran sroster sheree, yous wett be ma qundpRvod ind somin AKt dewhir frouCI's vend, Kun wis theer wastir.\n",
            "\n",
            "Whist we Lereve yort instid 'das the ath,\n",
            "Czivectit nghear fous Airthert warve; thil so\n",
            "Glif dive\n",
            "Loth hall som fit the che trieit kirths GAch?\n",
            "Bele macounesgion d?ur sencille, de Bixker ild,to, anf will My indls fleat,\n",
            "all ca sest aillarl sto hastind woringenle.\n",
            "\n",
            "SASUMIA:\n",
            "Cize rins fe whewan meOr, ille, I thend weit sethe ill thid?\n",
            "\n",
            "MEno hirnjour eror:\n",
            "Nves dignd becy y wovre, Vifo Bord chars'TI wre ay\n",
            "Brolds gad Munir ons garlbularrd Mathecld hesir flo bys\n",
            "BEt eriche, he'd frold!, dey Cwent sulll Merish.\n",
            "VOLINI'l, ber'l kefet hongideve: fers die shot winest desure,\n",
            "I knom him grus daven theld by shouth thaver setornd fising spongest and hat bam\n",
            "Trundre,\n",
            "Yr:\n",
            "ARol wingonel de git woldd tor :\n",
            "Wid ceelll'd bule sewinior: mys thare\n",
            "CiTh hies wivecher belf noth me Inren rarenl:\n",
            "He lier roommed whom;\n",
            "Burnnth I faticerd aves con grorand.\n",
            "\n",
            "EDUDIORD:\n",
            "Foull what sou grickssths man byear he?\n",
            "BCUSssels;\n",
            "SVO:\n",
            "Sareice, shad or hethee\n",
            "TOOLalll, corray me wistr sitt mit;\n",
            "TOOLIOL Ack?:\n",
            "Cout, mour wheir Rirthen thapl spuor, he yeerdild,\n",
            "Be! thy Sart opCIf.\n",
            "WIO:\n",
            "May, with by omit py I whils yicl you theweef, ich om heserst haurep mO chathtSt thall doil thee buert deralld yw'd heword telds fack crol cond hel'd mind ande,\n",
            "Tre?\n",
            "SOMIO:\n",
            "My:\n",
            "rave mid hour ho han sirds, witSt, I' hyee my acoun deth:\n",
            "Ye wind noun,n,nd sebt She 'sengr\n",
            "Pran onstelean fe case gind cothels leanld Hasp\n",
            "Fir Loth hit cincher's sA pormy feerr\n",
            "Thiivs shie, url ansth stholy, mere hat, willdshe rot\n",
            "BOort at durkO:\n",
            "I lo slo I'l a yorser ba miRver merd sthing;\n",
            "I nise fay grcus ye.\n",
            "Penn ill.\n",
            "\n",
            "CARONGBY:\n",
            "Nther\n",
            "NO:\n",
            "my, om fof tinderd bloven fretiks she uchlofure,\n",
            "Plqundiouste de nor eary ind, ter thiche thill.\n",
            "\n",
            "C\n"
          ]
        }
      ]
    },
    {
      "cell_type": "code",
      "source": [],
      "metadata": {
        "id": "t2W2jildiOsu"
      },
      "execution_count": null,
      "outputs": []
    }
  ]
}