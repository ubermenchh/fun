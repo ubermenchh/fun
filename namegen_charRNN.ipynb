{
  "nbformat": 4,
  "nbformat_minor": 0,
  "metadata": {
    "colab": {
      "provenance": [],
      "mount_file_id": "1EwmHFNrGUyaKUBe311TsOAw1JBELs0WL",
      "authorship_tag": "ABX9TyMwD4Q+kUyPXaJwCRSljJtu"
    },
    "kernelspec": {
      "name": "python3",
      "display_name": "Python 3"
    },
    "language_info": {
      "name": "python"
    }
  },
  "cells": [
    {
      "cell_type": "code",
      "execution_count": 1,
      "metadata": {
        "id": "hV5BQp4GVpp3"
      },
      "outputs": [],
      "source": [
        "from io import open\n",
        "import glob, os, unicodedata, string"
      ]
    },
    {
      "cell_type": "code",
      "source": [
        "all_letters = string.ascii_letters + \" .,'-\"\n",
        "n_letters = len(all_letters) + 1 # plus EOS marker"
      ],
      "metadata": {
        "id": "7RL0yafYVu3H"
      },
      "execution_count": 2,
      "outputs": []
    },
    {
      "cell_type": "code",
      "source": [
        "def findFiles(path): return glob.glob(path)"
      ],
      "metadata": {
        "id": "gQVmyqANWE_I"
      },
      "execution_count": 3,
      "outputs": []
    },
    {
      "cell_type": "code",
      "source": [
        "def unicodeToAscii(s):\n",
        "    return ''.join(\n",
        "        c for c in unicodedata.normalize('NFD', s)\n",
        "        if unicodedata.category(c) != 'Mn'\n",
        "        and c in all_letters\n",
        "    )"
      ],
      "metadata": {
        "id": "90POKfBfWlx5"
      },
      "execution_count": 4,
      "outputs": []
    },
    {
      "cell_type": "code",
      "source": [
        "def read_lines(filename):\n",
        "    with open(filename, encoding='utf-8') as some_file:\n",
        "        return [unicodeToAscii(line.strip()) for line in some_file]"
      ],
      "metadata": {
        "id": "pni3V8KSW0iP"
      },
      "execution_count": 5,
      "outputs": []
    },
    {
      "cell_type": "code",
      "source": [
        "category_lines = {}\n",
        "all_categories = []\n",
        "for filename in findFiles('/content/drive/MyDrive/datasets/names/*.txt'):\n",
        "    category = os.path.splitext(os.path.basename(filename))[0]\n",
        "    all_categories.append(category)\n",
        "    lines = read_lines(filename)\n",
        "    category_lines[category] = lines\n",
        "\n",
        "n_categories = len(all_categories)\n",
        "\n",
        "print('# categories:', n_categories, all_categories)\n",
        "print(unicodeToAscii(\"O'Néàl\"))"
      ],
      "metadata": {
        "colab": {
          "base_uri": "https://localhost:8080/"
        },
        "id": "ae60-PGMXBUE",
        "outputId": "1fc3931f-cdf4-461c-d74a-319a8276d8b5"
      },
      "execution_count": 6,
      "outputs": [
        {
          "output_type": "stream",
          "name": "stdout",
          "text": [
            "# categories: 18 ['French', 'Japanese', 'Italian', 'Greek', 'Korean', 'Scottish', 'Vietnamese', 'German', 'Irish', 'Chinese', 'Dutch', 'Spanish', 'English', 'Polish', 'Portuguese', 'Russian', 'Arabic', 'Czech']\n",
            "O'Neal\n"
          ]
        }
      ]
    },
    {
      "cell_type": "code",
      "source": [
        "import torch\n",
        "import torch.nn as nn\n",
        "\n",
        "class RNN(nn.Module):\n",
        "    def __init__(self, input_size, hidden_size, output_size):\n",
        "        super(RNN, self).__init__()\n",
        "        self.hidden_size = hidden_size\n",
        "\n",
        "        self.i2h = nn.Linear(n_categories + input_size + hidden_size, hidden_size)\n",
        "        self.i2o = nn.Linear(n_categories + input_size + hidden_size, output_size)\n",
        "        self.o2o = nn.Linear(hidden_size + output_size, output_size)\n",
        "        self.dropout = nn.Dropout(0.1)\n",
        "        self.softmax = nn.LogSoftmax(dim=1)\n",
        "\n",
        "    def forward(self, category, input, hidden):\n",
        "        input_combined = torch.cat((category, input, hidden), 1)\n",
        "        hidden = self.i2h(input_combined)\n",
        "        output = self.i2o(input_combined)\n",
        "        output_combined = torch.cat((hidden, output), 1)\n",
        "        output = self.o2o(output_combined)\n",
        "        output = self.dropout(output)\n",
        "        output = self.softmax(output)\n",
        "        return output, hidden\n",
        "\n",
        "    def init_hidden(self):\n",
        "        return torch.zeros(1, self.hidden_size)"
      ],
      "metadata": {
        "id": "NfFGDmh-XqYD"
      },
      "execution_count": 7,
      "outputs": []
    },
    {
      "cell_type": "code",
      "source": [
        "rnn = RNN(n_letters, 128, n_letters)\n",
        "rnn"
      ],
      "metadata": {
        "colab": {
          "base_uri": "https://localhost:8080/"
        },
        "id": "RpxryzjkY3Ax",
        "outputId": "b669760c-689e-434a-c8f1-ddf2f3d0c38f"
      },
      "execution_count": 8,
      "outputs": [
        {
          "output_type": "execute_result",
          "data": {
            "text/plain": [
              "RNN(\n",
              "  (i2h): Linear(in_features=204, out_features=128, bias=True)\n",
              "  (i2o): Linear(in_features=204, out_features=58, bias=True)\n",
              "  (o2o): Linear(in_features=186, out_features=58, bias=True)\n",
              "  (dropout): Dropout(p=0.1, inplace=False)\n",
              "  (softmax): LogSoftmax(dim=1)\n",
              ")"
            ]
          },
          "metadata": {},
          "execution_count": 8
        }
      ]
    },
    {
      "cell_type": "code",
      "source": [
        "import random\n",
        "\n",
        "def random_choice(l): return l[random.randint(0, len(l) - 1)]\n",
        "def random_training_pair():\n",
        "    category = random_choice(all_categories)\n",
        "    line = random_choice(category_lines[category])\n",
        "    return category, line"
      ],
      "metadata": {
        "id": "XmU-s53hZBn8"
      },
      "execution_count": 9,
      "outputs": []
    },
    {
      "cell_type": "code",
      "source": [
        "def category_tensor(category): # one-hot vector for category\n",
        "    li = all_categories.index(category)\n",
        "    tensor = torch.zeros(1, n_categories)\n",
        "    tensor[0][li] = 1\n",
        "    return tensor\n",
        "\n",
        "def input_tensor(line): # one-hot matrix of first to last letters (not EOS) for input\n",
        "    tensor = torch.zeros(len(line), 1, n_letters)\n",
        "    for li in range(len(line)):\n",
        "        letter = line[li]\n",
        "        tensor[li][0][all_letters.find(letter)] = 1\n",
        "    return tensor\n",
        "\n",
        "def target_tensor(line): # ``LongTensor`` of second letter to end (EOS) for target\n",
        "    letter_indexes = [all_letters.find(line[li]) for li in range(1, len(line))]\n",
        "    letter_indexes.append(n_letters - 1) # EOS\n",
        "    return torch.LongTensor(letter_indexes)"
      ],
      "metadata": {
        "id": "J5-DTugdZfQd"
      },
      "execution_count": 10,
      "outputs": []
    },
    {
      "cell_type": "code",
      "source": [
        "def random_training_example():\n",
        "    category, line = random_training_pair()\n",
        "    cat_tensor = category_tensor(category)\n",
        "    input_line_tensor = input_tensor(line)\n",
        "    target_line_tensor = target_tensor(line)\n",
        "    return cat_tensor, input_line_tensor, target_line_tensor"
      ],
      "metadata": {
        "id": "5tUuoVjBavLv"
      },
      "execution_count": 15,
      "outputs": []
    },
    {
      "cell_type": "code",
      "source": [
        "criterion = nn.NLLLoss()\n",
        "learning_rate = 0.0005\n",
        "\n",
        "def train(category_tensor, input_line_tensor, target_line_tensor):\n",
        "    target_line_tensor.unsqueeze_(-1)\n",
        "    hidden = rnn.init_hidden()\n",
        "\n",
        "    rnn.zero_grad()\n",
        "    loss = torch.Tensor([0])\n",
        "\n",
        "    for i in range(input_line_tensor.size(0)):\n",
        "        output, hidden = rnn(category_tensor, input_line_tensor[i], hidden)\n",
        "        l = criterion(output, target_line_tensor[i])\n",
        "        loss += l\n",
        "\n",
        "    loss.backward()\n",
        "\n",
        "    for p in rnn.parameters():\n",
        "        p.data.add_(p.grad.data, alpha=-learning_rate)\n",
        "\n",
        "    return output, loss.item() / input_line_tensor.size(0)"
      ],
      "metadata": {
        "id": "T6ZmwXnwbDBD"
      },
      "execution_count": 16,
      "outputs": []
    },
    {
      "cell_type": "code",
      "source": [
        "import time, math\n",
        "\n",
        "def time_since(since):\n",
        "    now = time.time()\n",
        "    s = now - since\n",
        "    m = math.floor(s/60)\n",
        "    s -= m*60\n",
        "    return '%dm %ds' % (m, s)"
      ],
      "metadata": {
        "id": "XyvRDdbSb0ao"
      },
      "execution_count": 17,
      "outputs": []
    },
    {
      "cell_type": "code",
      "source": [
        "n_iters = 100000\n",
        "print_every = 5000\n",
        "plot_every = 500\n",
        "all_losses = []\n",
        "total_loss = 0\n",
        "\n",
        "start = time.time()\n",
        "\n",
        "for iter in range(1, n_iters + 1):\n",
        "    output, loss = train(*random_training_example())\n",
        "    total_loss += loss\n",
        "\n",
        "    if iter % print_every == 0:\n",
        "        print('%s (%d %d%%) %.4f' % (time_since(start), iter, iter/n_iters*100, loss))\n",
        "\n",
        "    if iter % plot_every == 0:\n",
        "        all_losses.append(total_loss/plot_every)\n",
        "        total_loss = 0"
      ],
      "metadata": {
        "colab": {
          "base_uri": "https://localhost:8080/"
        },
        "id": "d-evgpQYcSDV",
        "outputId": "aa9721f1-ae4f-4078-e378-b9d43602dfc4"
      },
      "execution_count": 18,
      "outputs": [
        {
          "output_type": "stream",
          "name": "stdout",
          "text": [
            "0m 15s (5000 5%) 2.7102\n",
            "0m 30s (10000 10%) 3.0076\n",
            "0m 46s (15000 15%) 2.6858\n",
            "1m 2s (20000 20%) 3.2819\n",
            "1m 17s (25000 25%) 2.4306\n",
            "1m 32s (30000 30%) 2.7179\n",
            "1m 47s (35000 35%) 3.0012\n",
            "2m 2s (40000 40%) 2.5107\n",
            "2m 18s (45000 45%) 3.5882\n",
            "2m 35s (50000 50%) 2.8215\n",
            "2m 50s (55000 55%) 1.6898\n",
            "3m 5s (60000 60%) 2.3565\n",
            "3m 20s (65000 65%) 1.8451\n",
            "3m 37s (70000 70%) 1.9742\n",
            "3m 53s (75000 75%) 2.0076\n",
            "4m 8s (80000 80%) 2.0419\n",
            "4m 23s (85000 85%) 2.8915\n",
            "4m 39s (90000 90%) 2.6838\n",
            "4m 55s (95000 95%) 2.1339\n",
            "5m 10s (100000 100%) 2.3012\n"
          ]
        }
      ]
    },
    {
      "cell_type": "code",
      "source": [
        "import matplotlib.pyplot as plt\n",
        "\n",
        "plt.figure()\n",
        "plt.plot(all_losses);"
      ],
      "metadata": {
        "colab": {
          "base_uri": "https://localhost:8080/",
          "height": 430
        },
        "id": "HY3V5FERc_HH",
        "outputId": "37db0d9b-072a-4b23-d4b1-33cf4d171b1c"
      },
      "execution_count": 20,
      "outputs": [
        {
          "output_type": "display_data",
          "data": {
            "text/plain": [
              "<Figure size 640x480 with 1 Axes>"
            ],
            "image/png": "[encoded data removed]"
          },
          "metadata": {}
        }
      ]
    },
    {
      "cell_type": "code",
      "source": [
        "max_length = 20\n",
        "\n",
        "def sample(category, start_letter='A'):\n",
        "    with torch.no_grad():\n",
        "        cat_tensor = category_tensor(category)\n",
        "        input = input_tensor(start_letter)\n",
        "        hidden = rnn.init_hidden()\n",
        "\n",
        "        output_name = start_letter\n",
        "\n",
        "        for i in range(max_length):\n",
        "            output, hidden = rnn(cat_tensor, input[0], hidden)\n",
        "            topv, topi = output.topk(1)\n",
        "            topi = topi[0][0]\n",
        "            if topi == n_letters - 1:\n",
        "                break\n",
        "            else:\n",
        "                letter = all_letters[topi]\n",
        "                output_name += letter\n",
        "            input = input_tensor(letter)\n",
        "        return output_name"
      ],
      "metadata": {
        "id": "s8-vuBFpeXA2"
      },
      "execution_count": 27,
      "outputs": []
    },
    {
      "cell_type": "code",
      "source": [
        "def samples(category, start_letters='ABC'):\n",
        "    for start_letter in start_letters:\n",
        "        print(sample(category, start_letter))"
      ],
      "metadata": {
        "id": "4qR1syoWfjWh"
      },
      "execution_count": 28,
      "outputs": []
    },
    {
      "cell_type": "code",
      "source": [
        "samples('Russian', 'RUSSIAN')"
      ],
      "metadata": {
        "colab": {
          "base_uri": "https://localhost:8080/"
        },
        "id": "clISr21CfvrT",
        "outputId": "59327f20-1a0a-4acb-937b-b71921db82ce"
      },
      "execution_count": 33,
      "outputs": [
        {
          "output_type": "stream",
          "name": "stdout",
          "text": [
            "Rovakov\n",
            "Uorakov\n",
            "Shakav\n",
            "Shakav\n",
            "Iakin\n",
            "Antovovev\n",
            "Nakan\n"
          ]
        }
      ]
    },
    {
      "cell_type": "code",
      "source": [
        "samples('Irish', 'CTD')"
      ],
      "metadata": {
        "colab": {
          "base_uri": "https://localhost:8080/"
        },
        "id": "duMZwm-vfySG",
        "outputId": "3a6f052a-4231-4f7b-a788-f4468336b68a"
      },
      "execution_count": 30,
      "outputs": [
        {
          "output_type": "stream",
          "name": "stdout",
          "text": [
            "China\n",
            "Tanan\n",
            "Dangan\n"
          ]
        }
      ]
    },
    {
      "cell_type": "code",
      "source": [
        "samples('German', 'AUR')"
      ],
      "metadata": {
        "colab": {
          "base_uri": "https://localhost:8080/"
        },
        "id": "zbZQAOmVgCzO",
        "outputId": "8ef66037-49ca-47c4-9c31-cee107061c11"
      },
      "execution_count": 32,
      "outputs": [
        {
          "output_type": "stream",
          "name": "stdout",
          "text": [
            "Arter\n",
            "Uren\n",
            "Roulle\n"
          ]
        }
      ]
    },
    {
      "cell_type": "code",
      "source": [],
      "metadata": {
        "id": "V4jYlkQMgHGt"
      },
      "execution_count": null,
      "outputs": []
    }
  ]
}