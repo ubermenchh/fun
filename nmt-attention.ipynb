{
 "cells": [
  {
   "cell_type": "markdown",
   "id": "bffb72ca",
   "metadata": {
    "papermill": {
     "duration": 0.007668,
     "end_time": "2023-10-12T07:37:16.511946",
     "exception": false,
     "start_time": "2023-10-12T07:37:16.504278",
     "status": "completed"
    },
    "tags": []
   },
   "source": [
    "# <font size='7'>Neural Machine Translation with Seq2Seq and Attention</font>"
   ]
  },
  {
   "cell_type": "code",
   "execution_count": 1,
   "id": "ed9c217f",
   "metadata": {
    "execution": {
     "iopub.execute_input": "2023-10-12T07:37:16.528838Z",
     "iopub.status.busy": "2023-10-12T07:37:16.528191Z",
     "iopub.status.idle": "2023-10-12T07:37:28.269502Z",
     "shell.execute_reply": "2023-10-12T07:37:28.268221Z"
    },
    "papermill": {
     "duration": 11.753171,
     "end_time": "2023-10-12T07:37:28.272859",
     "exception": false,
     "start_time": "2023-10-12T07:37:16.519688",
     "status": "completed"
    },
    "tags": []
   },
   "outputs": [],
   "source": [
    "!pip install -q unidecode"
   ]
  },
  {
   "cell_type": "code",
   "execution_count": 2,
   "id": "70a8b3b7",
   "metadata": {
    "execution": {
     "iopub.execute_input": "2023-10-12T07:37:28.290672Z",
     "iopub.status.busy": "2023-10-12T07:37:28.290295Z",
     "iopub.status.idle": "2023-10-12T07:37:31.658669Z",
     "shell.execute_reply": "2023-10-12T07:37:31.657252Z"
    },
    "papermill": {
     "duration": 3.380556,
     "end_time": "2023-10-12T07:37:31.661659",
     "exception": false,
     "start_time": "2023-10-12T07:37:28.281103",
     "status": "completed"
    },
    "tags": []
   },
   "outputs": [],
   "source": [
    "from __future__ import unicode_literals, print_function, division\n",
    "from io import open\n",
    "from unidecode import unidecode\n",
    "import re\n",
    "import random\n",
    "\n",
    "import torch\n",
    "import torch.nn as nn\n",
    "import torch.nn.functional as F\n",
    "\n",
    "import numpy as np\n",
    "from torch.utils.data import TensorDataset, DataLoader, RandomSampler\n",
    "device = 'cuda' if torch.cuda.is_available() else 'cpu'"
   ]
  },
  {
   "cell_type": "code",
   "execution_count": 3,
   "id": "3216ea03",
   "metadata": {
    "execution": {
     "iopub.execute_input": "2023-10-12T07:37:31.677814Z",
     "iopub.status.busy": "2023-10-12T07:37:31.676920Z",
     "iopub.status.idle": "2023-10-12T07:37:31.684522Z",
     "shell.execute_reply": "2023-10-12T07:37:31.683795Z"
    },
    "papermill": {
     "duration": 0.018509,
     "end_time": "2023-10-12T07:37:31.687107",
     "exception": false,
     "start_time": "2023-10-12T07:37:31.668598",
     "status": "completed"
    },
    "tags": []
   },
   "outputs": [],
   "source": [
    "SOS_token = 0\n",
    "EOS_token = 1\n",
    "\n",
    "class Lang:\n",
    "    def __init__(self, name):\n",
    "        self.name = name\n",
    "        self.word2index = {}\n",
    "        self.word2count = {}\n",
    "        self.index2word = {0:'SOS', 1:'EOS'}\n",
    "        self.n_words = 2 # Count SOS and EOS\n",
    "        \n",
    "    def add_sentence(self, sentence):\n",
    "        for word in sentence.split(' '):\n",
    "            self.add_word(word)\n",
    "            \n",
    "    def add_word(self, word):\n",
    "        if word not in self.word2index:\n",
    "            self.word2index[word] = self.n_words\n",
    "            self.word2count[word] = 1\n",
    "            self.index2word[self.n_words] = word\n",
    "            self.n_words += 1\n",
    "        else:\n",
    "            self.word2count[word] += 1"
   ]
  },
  {
   "cell_type": "code",
   "execution_count": 4,
   "id": "9be59a7d",
   "metadata": {
    "execution": {
     "iopub.execute_input": "2023-10-12T07:37:31.703984Z",
     "iopub.status.busy": "2023-10-12T07:37:31.703493Z",
     "iopub.status.idle": "2023-10-12T07:37:31.713232Z",
     "shell.execute_reply": "2023-10-12T07:37:31.711892Z"
    },
    "papermill": {
     "duration": 0.021716,
     "end_time": "2023-10-12T07:37:31.716129",
     "exception": false,
     "start_time": "2023-10-12T07:37:31.694413",
     "status": "completed"
    },
    "tags": []
   },
   "outputs": [
    {
     "data": {
      "text/plain": [
       "\"Repetez s'il vous plait\""
      ]
     },
     "execution_count": 4,
     "metadata": {},
     "output_type": "execute_result"
    }
   ],
   "source": [
    "unidecode(\"Répétez s'il vous plaît\")"
   ]
  },
  {
   "cell_type": "code",
   "execution_count": 5,
   "id": "455925df",
   "metadata": {
    "execution": {
     "iopub.execute_input": "2023-10-12T07:37:31.731743Z",
     "iopub.status.busy": "2023-10-12T07:37:31.731310Z",
     "iopub.status.idle": "2023-10-12T07:37:31.737118Z",
     "shell.execute_reply": "2023-10-12T07:37:31.735548Z"
    },
    "papermill": {
     "duration": 0.01655,
     "end_time": "2023-10-12T07:37:31.739472",
     "exception": false,
     "start_time": "2023-10-12T07:37:31.722922",
     "status": "completed"
    },
    "tags": []
   },
   "outputs": [],
   "source": [
    "def normalize_string(s):\n",
    "    s = unidecode(s.lower().strip())\n",
    "    s = re.sub(r\"([.!?])\", r\" \\1\", s)\n",
    "    s = re.sub(r\"[^a-zA-Z!?]+\", r\" \", s)\n",
    "    return s.strip()"
   ]
  },
  {
   "cell_type": "code",
   "execution_count": 6,
   "id": "9d143c6f",
   "metadata": {
    "execution": {
     "iopub.execute_input": "2023-10-12T07:37:31.755327Z",
     "iopub.status.busy": "2023-10-12T07:37:31.754928Z",
     "iopub.status.idle": "2023-10-12T07:37:31.761501Z",
     "shell.execute_reply": "2023-10-12T07:37:31.760774Z"
    },
    "papermill": {
     "duration": 0.017239,
     "end_time": "2023-10-12T07:37:31.763512",
     "exception": false,
     "start_time": "2023-10-12T07:37:31.746273",
     "status": "completed"
    },
    "tags": []
   },
   "outputs": [],
   "source": [
    "def read_langs(lang1, lang2, reverse=False):\n",
    "    print(\"Reading lines...\")\n",
    "    \n",
    "    lines = open(\"/kaggle/input/eng-fra/eng-fra.txt\").read().strip().split('\\n')\n",
    "    pairs = [[normalize_string(s) for s in l.split('\\t')] for l in lines]\n",
    "    \n",
    "    if reverse:\n",
    "        pairs = [list(reversed(p)) for p in pairs]\n",
    "        input_lang = Lang(lang2)\n",
    "        output_lang = Lang(lang1)\n",
    "    else:\n",
    "        input_lang = Lang(lang1)\n",
    "        output_lang = Lang(lang2)\n",
    "    \n",
    "    return input_lang, output_lang, pairs"
   ]
  },
  {
   "cell_type": "code",
   "execution_count": 7,
   "id": "943b4886",
   "metadata": {
    "execution": {
     "iopub.execute_input": "2023-10-12T07:37:31.779911Z",
     "iopub.status.busy": "2023-10-12T07:37:31.779264Z",
     "iopub.status.idle": "2023-10-12T07:37:31.785006Z",
     "shell.execute_reply": "2023-10-12T07:37:31.784260Z"
    },
    "papermill": {
     "duration": 0.016809,
     "end_time": "2023-10-12T07:37:31.787118",
     "exception": false,
     "start_time": "2023-10-12T07:37:31.770309",
     "status": "completed"
    },
    "tags": []
   },
   "outputs": [],
   "source": [
    "max_length = 10\n",
    "\n",
    "eng_prefixes = (\n",
    "    \"i am \", \"i m \",\n",
    "    \"he is\", \"he s \",\n",
    "    \"she is\", \"she s \",\n",
    "    \"you are\", \"you re \",\n",
    "    \"we are\", \"we re \",\n",
    "    \"they are\", \"they re \"\n",
    ")\n",
    "\n",
    "def filter_pair(p):\n",
    "    return len(p[0].split(' ')) < max_length and len(p[1].split(' ')) < max_length and p[1].startswith(eng_prefixes)\n",
    "\n",
    "def filter_pairs(pairs):\n",
    "    return [pair for pair in pairs if filter_pair(pair)]"
   ]
  },
  {
   "cell_type": "code",
   "execution_count": 8,
   "id": "304454bd",
   "metadata": {
    "execution": {
     "iopub.execute_input": "2023-10-12T07:37:31.804393Z",
     "iopub.status.busy": "2023-10-12T07:37:31.803762Z",
     "iopub.status.idle": "2023-10-12T07:37:36.057891Z",
     "shell.execute_reply": "2023-10-12T07:37:36.056211Z"
    },
    "papermill": {
     "duration": 4.265801,
     "end_time": "2023-10-12T07:37:36.060144",
     "exception": false,
     "start_time": "2023-10-12T07:37:31.794343",
     "status": "completed"
    },
    "tags": []
   },
   "outputs": [
    {
     "name": "stdout",
     "output_type": "stream",
     "text": [
      "Reading lines...\n",
      "Read 135842 sentence pairs\n",
      "Trimed to 11452 sentence pairs\n",
      "Counting words....\n",
      "Counted words.\n",
      "fra 4603\n",
      "eng 2991\n",
      "['je ne suis pas au courant de leurs decisions', 'i m not privy to their decisions']\n"
     ]
    }
   ],
   "source": [
    "def prepare_data(lang1, lang2, reverse=False):\n",
    "    input_lang, output_lang, pairs = read_langs(lang1, lang2, reverse)\n",
    "    print(f\"Read {len(pairs)} sentence pairs\")\n",
    "    pairs = filter_pairs(pairs)\n",
    "    print(f\"Trimed to {len(pairs)} sentence pairs\")\n",
    "    print(\"Counting words....\")\n",
    "    for pair in pairs:\n",
    "        input_lang.add_sentence(pair[0])\n",
    "        output_lang.add_sentence(pair[1])\n",
    "    print('Counted words.')\n",
    "    print(input_lang.name, input_lang.n_words)\n",
    "    print(output_lang.name, output_lang.n_words)\n",
    "    return input_lang, output_lang, pairs\n",
    "\n",
    "input_lang, output_lang, pairs = prepare_data('eng', 'fra', True)\n",
    "print(random.choice(pairs))"
   ]
  },
  {
   "cell_type": "code",
   "execution_count": 9,
   "id": "4b0ca588",
   "metadata": {
    "execution": {
     "iopub.execute_input": "2023-10-12T07:37:36.076350Z",
     "iopub.status.busy": "2023-10-12T07:37:36.075943Z",
     "iopub.status.idle": "2023-10-12T07:37:36.082644Z",
     "shell.execute_reply": "2023-10-12T07:37:36.081581Z"
    },
    "papermill": {
     "duration": 0.016996,
     "end_time": "2023-10-12T07:37:36.084709",
     "exception": false,
     "start_time": "2023-10-12T07:37:36.067713",
     "status": "completed"
    },
    "tags": []
   },
   "outputs": [],
   "source": [
    "class EncoderRNN(nn.Module):\n",
    "    def __init__(self, input_size, hidden_size, dropout_p=0.1):\n",
    "        super().__init__()\n",
    "        self.hidden_size = hidden_size\n",
    "        \n",
    "        self.embedding = nn.Embedding(input_size, hidden_size)\n",
    "        self.gru = nn.GRU(hidden_size, hidden_size, batch_first=True)\n",
    "        self.dropout = nn.Dropout(dropout_p)\n",
    "        \n",
    "    def forward(self, input):\n",
    "        embedded = self.dropout(self.embedding(input))\n",
    "        output, hidden = self.gru(embedded)\n",
    "        return output, hidden"
   ]
  },
  {
   "cell_type": "code",
   "execution_count": 10,
   "id": "6ab7f36e",
   "metadata": {
    "execution": {
     "iopub.execute_input": "2023-10-12T07:37:36.100460Z",
     "iopub.status.busy": "2023-10-12T07:37:36.100081Z",
     "iopub.status.idle": "2023-10-12T07:37:36.110552Z",
     "shell.execute_reply": "2023-10-12T07:37:36.109143Z"
    },
    "papermill": {
     "duration": 0.021046,
     "end_time": "2023-10-12T07:37:36.112894",
     "exception": false,
     "start_time": "2023-10-12T07:37:36.091848",
     "status": "completed"
    },
    "tags": []
   },
   "outputs": [],
   "source": [
    "class DecoderRNN(nn.Module):\n",
    "    def __init__(self, hidden_size, output_size):\n",
    "        super().__init__()\n",
    "        self.embedding = nn.Embedding(output_size, hidden_size)\n",
    "        self.gru = nn.GRU(hidden_size, hidden_size, batch_first=True)\n",
    "        self.out = nn.Linear(hidden_size, output_size)\n",
    "        \n",
    "    def forward(self, encoder_outputs, encoder_hidden, target_tensor=None):\n",
    "        batch_size = encoder_outputs.size(0)\n",
    "        decoder_input = torch.empty(batch_size, 1, dtype=torch.long, device=device).fill_(SOS_token)\n",
    "        decoder_hidden = encoder_hidden\n",
    "        decoder_outputs = []\n",
    "        \n",
    "        for i in range(max_length):\n",
    "            decoder_output, decoder_hidden = self.forward_step(decoder_input, decoder_hidden)\n",
    "            decoder_outputs.append(decoder_output)\n",
    "            \n",
    "            if target_tensor is not None:\n",
    "                # Teacher forcing: Feed the target as the next input\n",
    "                decoder_input = target_tensor[:, i].unsqueeze(1)\n",
    "            else:\n",
    "                # W/o teacher forcing: use its own predictions as the next input\n",
    "                _, topi = decoder_output.topk(1)\n",
    "                decoder_input = topi.squeeze(-1).detach()\n",
    "                \n",
    "        decoder_outputs = torch.cat(decoder_outputs, dim=1)\n",
    "        decoder_outputs = F.log_softmax(decoder_outputs, dim=-1)\n",
    "        return decoder_outputs, decoder_hidden, None # None for consistency in the training loop\n",
    "    \n",
    "    def forward_step(self, input, hidden):\n",
    "        output = self.embedding(input)\n",
    "        output = F.relu(output)\n",
    "        output, hidden = self.gru(output, hidden)\n",
    "        output = self.out(output)\n",
    "        return output, hidden"
   ]
  },
  {
   "cell_type": "code",
   "execution_count": 11,
   "id": "4211e62d",
   "metadata": {
    "execution": {
     "iopub.execute_input": "2023-10-12T07:37:36.129097Z",
     "iopub.status.busy": "2023-10-12T07:37:36.128645Z",
     "iopub.status.idle": "2023-10-12T07:37:36.138094Z",
     "shell.execute_reply": "2023-10-12T07:37:36.136983Z"
    },
    "papermill": {
     "duration": 0.02023,
     "end_time": "2023-10-12T07:37:36.140285",
     "exception": false,
     "start_time": "2023-10-12T07:37:36.120055",
     "status": "completed"
    },
    "tags": []
   },
   "outputs": [],
   "source": [
    "def indexes_from_sentence(lang, sentence): return [lang.word2index[word] for word in sentence.split(' ')]\n",
    "def tensor_from_sentence(lang, sentence):\n",
    "    indexes = indexes_from_sentence(lang, sentence)\n",
    "    indexes.append(EOS_token)\n",
    "    return torch.tensor(indexes, dtype=torch.long, device=device).view(1, -1)\n",
    "def tensor_from_pair(pair):\n",
    "    input_tensor = tensor_from_sentence(input_lang, pair[0])\n",
    "    target_tensor = tensor_from_sentence(output_lang, pair[1])\n",
    "    return (input_tensor, target_tensor)\n",
    "\n",
    "def get_dataloader(batch_size):\n",
    "    input_lang, output_lang, pairs = prepare_data('eng', 'fra', True)\n",
    "    \n",
    "    n = len(pairs)\n",
    "    input_ids = np.zeros((n, max_length), dtype=np.int32)\n",
    "    target_ids = np.zeros((n, max_length), dtype=np.int32)\n",
    "    \n",
    "    for idx, (inp, targ) in enumerate(pairs):\n",
    "        inp_ids = indexes_from_sentence(input_lang, inp)\n",
    "        targ_ids = indexes_from_sentence(output_lang, targ)\n",
    "        inp_ids.append(EOS_token)\n",
    "        targ_ids.append(EOS_token)\n",
    "        input_ids[idx, :len(inp_ids)] = inp_ids\n",
    "        target_ids[idx, :len(targ_ids)] = targ_ids\n",
    "        \n",
    "    train_data = TensorDataset(torch.LongTensor(input_ids).to(device),\n",
    "                              torch.LongTensor(target_ids).to(device))\n",
    "    \n",
    "    train_sampler = RandomSampler(train_data)\n",
    "    train_dataloader = DataLoader(train_data, sampler=train_sampler, batch_size=batch_size)\n",
    "    return input_lang, output_lang, train_dataloader"
   ]
  },
  {
   "cell_type": "code",
   "execution_count": 12,
   "id": "bc470a01",
   "metadata": {
    "execution": {
     "iopub.execute_input": "2023-10-12T07:37:36.156058Z",
     "iopub.status.busy": "2023-10-12T07:37:36.155590Z",
     "iopub.status.idle": "2023-10-12T07:37:36.165072Z",
     "shell.execute_reply": "2023-10-12T07:37:36.163350Z"
    },
    "papermill": {
     "duration": 0.02035,
     "end_time": "2023-10-12T07:37:36.167689",
     "exception": false,
     "start_time": "2023-10-12T07:37:36.147339",
     "status": "completed"
    },
    "tags": []
   },
   "outputs": [],
   "source": [
    "def train_epoch(dataloader, encoder, decoder, encoder_optimizer, decoder_optimizer, loss_fn):\n",
    "    total_loss = 0\n",
    "    \n",
    "    for data in dataloader:\n",
    "        input_tensor, target_tensor = data\n",
    "        \n",
    "        encoder_optimizer.zero_grad()\n",
    "        decoder_optimizer.zero_grad()\n",
    "        \n",
    "        encoder_outputs, encoder_hidden = encoder(input_tensor)\n",
    "        decoder_outputs, _, _ = decoder(encoder_outputs, encoder_hidden, target_tensor)\n",
    "        \n",
    "        loss = loss_fn(decoder_outputs.view(-1, decoder_outputs.size(-1)), target_tensor.view(-1))\n",
    "        loss.backward()\n",
    "        \n",
    "        encoder_optimizer.step()\n",
    "        decoder_optimizer.step()\n",
    "        \n",
    "        total_loss += loss.item()\n",
    "    \n",
    "    return total_loss / len(dataloader)"
   ]
  },
  {
   "cell_type": "code",
   "execution_count": 13,
   "id": "8db3d0be",
   "metadata": {
    "execution": {
     "iopub.execute_input": "2023-10-12T07:37:36.185877Z",
     "iopub.status.busy": "2023-10-12T07:37:36.185468Z",
     "iopub.status.idle": "2023-10-12T07:37:36.192381Z",
     "shell.execute_reply": "2023-10-12T07:37:36.191140Z"
    },
    "papermill": {
     "duration": 0.019344,
     "end_time": "2023-10-12T07:37:36.194620",
     "exception": false,
     "start_time": "2023-10-12T07:37:36.175276",
     "status": "completed"
    },
    "tags": []
   },
   "outputs": [],
   "source": [
    "import time, math\n",
    "\n",
    "def as_mins(s):\n",
    "    m = math.floor(s / 60)\n",
    "    s -= m * 60\n",
    "    return f\"{m, s}\"\n",
    "def time_since(since, percent):\n",
    "    now = time.time()\n",
    "    s = now - since\n",
    "    es = s / (percent)\n",
    "    rs = es - s\n",
    "    return f\"{as_mins(s)} (- {as_mins(rs)})\""
   ]
  },
  {
   "cell_type": "code",
   "execution_count": 14,
   "id": "10523c50",
   "metadata": {
    "execution": {
     "iopub.execute_input": "2023-10-12T07:37:36.211475Z",
     "iopub.status.busy": "2023-10-12T07:37:36.211105Z",
     "iopub.status.idle": "2023-10-12T07:37:36.219173Z",
     "shell.execute_reply": "2023-10-12T07:37:36.218110Z"
    },
    "papermill": {
     "duration": 0.018559,
     "end_time": "2023-10-12T07:37:36.221170",
     "exception": false,
     "start_time": "2023-10-12T07:37:36.202611",
     "status": "completed"
    },
    "tags": []
   },
   "outputs": [],
   "source": [
    "def train(train_dataloader, encoder, decoder, n_epochs, lr=0.001, print_every=100, plot_every=100):\n",
    "    start = time.time()\n",
    "    plot_losses = []\n",
    "    print_loss_total = 0\n",
    "    plot_loss_total = 0\n",
    "    \n",
    "    encoder_optimizer = torch.optim.Adam(encoder.parameters(), lr=lr)\n",
    "    decoder_optimizer = torch.optim.Adam(decoder.parameters(), lr=lr)\n",
    "    loss_fn = nn.NLLLoss()\n",
    "    \n",
    "    for epoch in range(1, n_epochs+1):\n",
    "        loss = train_epoch(train_dataloader, encoder, decoder, encoder_optimizer, decoder_optimizer, loss_fn)\n",
    "        print_loss_total += loss\n",
    "        plot_loss_total += loss\n",
    "        \n",
    "        if epoch % print_every == 0:\n",
    "            print_loss_avg = print_loss_total / print_every\n",
    "            print_loss_total = 0\n",
    "            print(f\"{time_since(start, epoch/n_epochs)} ({epoch} {epoch/n_epochs*100}%) {print_loss_avg:.4f}\")\n",
    "            \n",
    "        if epoch % plot_every == 0:\n",
    "            plot_loss_avg = plot_loss_total / plot_every\n",
    "            plot_losses.append(plot_loss_avg)\n",
    "            plot_loss_total = 0\n",
    "            \n",
    "    show_plot(plot_losses)"
   ]
  },
  {
   "cell_type": "code",
   "execution_count": 15,
   "id": "7c340510",
   "metadata": {
    "execution": {
     "iopub.execute_input": "2023-10-12T07:37:36.237841Z",
     "iopub.status.busy": "2023-10-12T07:37:36.237407Z",
     "iopub.status.idle": "2023-10-12T07:37:36.245441Z",
     "shell.execute_reply": "2023-10-12T07:37:36.244284Z"
    },
    "papermill": {
     "duration": 0.019243,
     "end_time": "2023-10-12T07:37:36.248038",
     "exception": false,
     "start_time": "2023-10-12T07:37:36.228795",
     "status": "completed"
    },
    "tags": []
   },
   "outputs": [],
   "source": [
    "import matplotlib as mpl\n",
    "import matplotlib.pyplot as plt\n",
    "%matplotlib inline\n",
    "import matplotlib.ticker as ticker\n",
    "\n",
    "def show_plot(points):\n",
    "    plt.figure()\n",
    "    fig, ax = plt.subplots()\n",
    "    loc = ticker.MultipleLocator(base=0.2)\n",
    "    ax.yaxis.set_major_locator(loc)\n",
    "    plt.plot(points)\n",
    "    plt.show();"
   ]
  },
  {
   "cell_type": "code",
   "execution_count": 16,
   "id": "e4e3b235",
   "metadata": {
    "execution": {
     "iopub.execute_input": "2023-10-12T07:37:36.265456Z",
     "iopub.status.busy": "2023-10-12T07:37:36.264993Z",
     "iopub.status.idle": "2023-10-12T07:37:36.272108Z",
     "shell.execute_reply": "2023-10-12T07:37:36.270806Z"
    },
    "papermill": {
     "duration": 0.018995,
     "end_time": "2023-10-12T07:37:36.274678",
     "exception": false,
     "start_time": "2023-10-12T07:37:36.255683",
     "status": "completed"
    },
    "tags": []
   },
   "outputs": [],
   "source": [
    "def evaluate(encoder, decoder, sentence, input_lang, output_lang):\n",
    "    with torch.no_grad():\n",
    "        input_tensor = tensor_from_sentence(input_lang, sentence)\n",
    "        \n",
    "        encoder_outputs, encoder_hidden = encoder(input_tensor)\n",
    "        decoder_outputs, decoder_hidden, decoder_attn = decoder(encoder_outputs, encoder_hidden)\n",
    "        \n",
    "        _, topi = decoder_outputs.topk(1)\n",
    "        decoded_ids = topi.squeeze()\n",
    "        \n",
    "        decoded_words = []\n",
    "        for idx in decoded_ids:\n",
    "            if idx.item() == EOS_token:\n",
    "                decoded_words.append('<EOS>')\n",
    "                break\n",
    "            decoded_words.append(output_lang.index2word[idx.item()])\n",
    "    return decoded_words, decoder_attn"
   ]
  },
  {
   "cell_type": "code",
   "execution_count": 17,
   "id": "9ffc1097",
   "metadata": {
    "execution": {
     "iopub.execute_input": "2023-10-12T07:37:36.290912Z",
     "iopub.status.busy": "2023-10-12T07:37:36.290481Z",
     "iopub.status.idle": "2023-10-12T07:37:36.297140Z",
     "shell.execute_reply": "2023-10-12T07:37:36.295836Z"
    },
    "papermill": {
     "duration": 0.017175,
     "end_time": "2023-10-12T07:37:36.299257",
     "exception": false,
     "start_time": "2023-10-12T07:37:36.282082",
     "status": "completed"
    },
    "tags": []
   },
   "outputs": [],
   "source": [
    "def evaluate_randomly(encoder, decoder, n=10):\n",
    "    for i in range(n):\n",
    "        pair = random.choice(pairs)\n",
    "        print('>', pair[0])\n",
    "        print('=', pair[1])\n",
    "        output_words, _ = evaluate(encoder, decoder, pair[0], input_lang, output_lang)\n",
    "        output_sentence = ' '.join(output_words)\n",
    "        print('<', output_sentence)\n",
    "        print('')"
   ]
  },
  {
   "cell_type": "markdown",
   "id": "164345f0",
   "metadata": {
    "papermill": {
     "duration": 0.006733,
     "end_time": "2023-10-12T07:37:36.313343",
     "exception": false,
     "start_time": "2023-10-12T07:37:36.306610",
     "status": "completed"
    },
    "tags": []
   },
   "source": [
    "## Training without attention"
   ]
  },
  {
   "cell_type": "code",
   "execution_count": 18,
   "id": "5dbf6597",
   "metadata": {
    "execution": {
     "iopub.execute_input": "2023-10-12T07:37:36.330159Z",
     "iopub.status.busy": "2023-10-12T07:37:36.328843Z",
     "iopub.status.idle": "2023-10-12T07:57:09.858286Z",
     "shell.execute_reply": "2023-10-12T07:57:09.857106Z"
    },
    "papermill": {
     "duration": 1173.540375,
     "end_time": "2023-10-12T07:57:09.860761",
     "exception": false,
     "start_time": "2023-10-12T07:37:36.320386",
     "status": "completed"
    },
    "tags": []
   },
   "outputs": [
    {
     "name": "stdout",
     "output_type": "stream",
     "text": [
      "Reading lines...\n",
      "Read 135842 sentence pairs\n",
      "Trimed to 11452 sentence pairs\n",
      "Counting words....\n",
      "Counted words.\n",
      "fra 4603\n",
      "eng 2991\n",
      "(1, 11.87213134765625) (- (17, 58.08197021484375)) (5 6.25%) 1.6891\n",
      "(2, 24.760483264923096) (- (16, 53.32338285446167)) (10 12.5%) 0.9247\n",
      "(3, 37.2399799823761) (- (15, 41.3732465902965)) (15 18.75%) 0.6160\n",
      "(4, 50.41609811782837) (- (14, 31.248294353485107)) (20 25.0%) 0.4303\n",
      "(6, 4.2836830615997314) (- (13, 21.424102735519455)) (25 31.25%) 0.3095\n",
      "(7, 15.781086921691895) (- (12, 6.301811536153082)) (30 37.5%) 0.2302\n",
      "(8, 27.718632459640503) (- (10, 52.781098876680744)) (35 43.75%) 0.1754\n",
      "(9, 40.77030873298645) (- (9, 40.77030873298645)) (40 50.0%) 0.1366\n",
      "(10, 54.20808792114258) (- (8, 28.828512827555414)) (45 56.25%) 0.1098\n",
      "(12, 6.485514163970947) (- (7, 15.891308498382614)) (50 62.5%) 0.0910\n",
      "(13, 19.573156595230103) (- (6, 3.4423439069228152)) (55 68.75%) 0.0768\n",
      "(14, 33.87362241744995) (- (4, 51.29120747248339)) (60 75.0%) 0.0666\n",
      "(15, 49.36276388168335) (- (3, 39.083714741927)) (65 81.25%) 0.0578\n",
      "(17, 2.3678605556488037) (- (2, 26.05255150794983)) (70 87.5%) 0.0533\n",
      "(18, 15.213326454162598) (- (1, 13.014221763610749)) (75 93.75%) 0.0472\n",
      "(19, 29.008827447891235) (- (0, 0.0)) (80 100.0%) 0.0447\n"
     ]
    },
    {
     "data": {
      "text/plain": [
       "<Figure size 640x480 with 0 Axes>"
      ]
     },
     "metadata": {},
     "output_type": "display_data"
    },
    {
     "data": {
      "image/png": "[encoded data removed]",
      "text/plain": [
       "<Figure size 640x480 with 1 Axes>"
      ]
     },
     "metadata": {},
     "output_type": "display_data"
    }
   ],
   "source": [
    "hidden_size = 128\n",
    "batch_size = 32\n",
    "\n",
    "input_lang, output_lang, train_dataloader = get_dataloader(batch_size)\n",
    "\n",
    "encoder = EncoderRNN(input_lang.n_words, hidden_size).to(device)\n",
    "decoder = DecoderRNN(hidden_size, output_lang.n_words).to(device)\n",
    "\n",
    "train(train_dataloader, encoder, decoder, 80, print_every=5, plot_every=5)"
   ]
  },
  {
   "cell_type": "code",
   "execution_count": 19,
   "id": "44145e6f",
   "metadata": {
    "execution": {
     "iopub.execute_input": "2023-10-12T07:57:09.879698Z",
     "iopub.status.busy": "2023-10-12T07:57:09.879328Z",
     "iopub.status.idle": "2023-10-12T07:57:09.932893Z",
     "shell.execute_reply": "2023-10-12T07:57:09.931801Z"
    },
    "papermill": {
     "duration": 0.065969,
     "end_time": "2023-10-12T07:57:09.935581",
     "exception": false,
     "start_time": "2023-10-12T07:57:09.869612",
     "status": "completed"
    },
    "tags": []
   },
   "outputs": [
    {
     "name": "stdout",
     "output_type": "stream",
     "text": [
      "> je suis touchee\n",
      "= i m touched\n",
      "< i m hit the school now now <EOS>\n",
      "\n",
      "> je ne suis plus fatiguee\n",
      "= i am no longer tired\n",
      "< i am no match for the accident <EOS>\n",
      "\n",
      "> je suis tres fatigue\n",
      "= i am very tired\n",
      "< i am very tired from the job <EOS>\n",
      "\n",
      "> quel idiot tu es !\n",
      "= you re such an idiot !\n",
      "< you are such a jerk <EOS>\n",
      "\n",
      "> tu es celui qui m a entraine\n",
      "= you re the one who trained me\n",
      "< you re the one who trained me <EOS>\n",
      "\n",
      "> nous avons de la visite\n",
      "= we re having company\n",
      "< we re halfway there <EOS>\n",
      "\n",
      "> je suis moins heureux maintenant\n",
      "= i m not as happy now\n",
      "< i m really as old as tom <EOS>\n",
      "\n",
      "> je suis en train de reamenager\n",
      "= i m remodeling\n",
      "< i m learning the station <EOS>\n",
      "\n",
      "> je creve de froid\n",
      "= i m freezing cold\n",
      "< i m getting sleepy <EOS>\n",
      "\n",
      "> vous etes fort effrontees\n",
      "= you re very forward\n",
      "< you are all very good with me are you ?\n",
      "\n"
     ]
    }
   ],
   "source": [
    "encoder.eval()\n",
    "decoder.eval()\n",
    "\n",
    "evaluate_randomly(encoder, decoder)"
   ]
  },
  {
   "cell_type": "markdown",
   "id": "dacfc791",
   "metadata": {
    "papermill": {
     "duration": 0.00906,
     "end_time": "2023-10-12T07:57:09.954814",
     "exception": false,
     "start_time": "2023-10-12T07:57:09.945754",
     "status": "completed"
    },
    "tags": []
   },
   "source": [
    "# Bahdanau Attention\n",
    "\n",
    "- also known as additive attention or global attention\n",
    "- Primary purpose is to help the model focus on different parts of the input sequence while generating each element of the output sequence.\n",
    "- It allows the model to adaptively attend to different parts of the input sequence during the decoding process, which is crucial for handling long sequences and capturing relevant information for the task at hand.\n",
    "\n",
    "How it works:\n",
    "1. **Input Sequence**: Consider an input sequence of word embeddings or tokens, that the model needs to process and translate or generate from.\n",
    "2. **Encoder-Decoder Architecture**: The input sequence is encoded into a fixed-length representation by an encoder, typically using RNNs or other sequential models.\n",
    "3. **Attention Scores**: The decoder calculates attention scores for each position in the input sequence. These attention scores determine how much focus the model should give to each input position when generating the current output element.\n",
    "4. **Softmax**: The attention scores are passes through a softmax function to convert them into probability distributions. This makes the attention mechanism differentiable and ensures that the sum of attention weights for all positions is equal to 1.\n",
    "5. **Weighted Sum**: The output of the attention mechanism is a weighted sum of the encoder's hidden states(outputs). Each hidden state is multiplied by its corresponding attention weight and then summed to create the context vector.\n",
    "6. **Context Vector**: The context vector is used as an additional input to the decoder, providing it with info about which parts of the input sequence to focus on while generating the next element in the output sequence.\n",
    "7. **Decoding**: The decoder used the context vector, along with its internal state and previously generated elements, to predict the next element in the output sequence. This process is repeated until the entire output sequence is generated."
   ]
  },
  {
   "cell_type": "code",
   "execution_count": 20,
   "id": "5524d047",
   "metadata": {
    "execution": {
     "iopub.execute_input": "2023-10-12T07:57:09.974216Z",
     "iopub.status.busy": "2023-10-12T07:57:09.973046Z",
     "iopub.status.idle": "2023-10-12T07:57:09.980176Z",
     "shell.execute_reply": "2023-10-12T07:57:09.979107Z"
    },
    "papermill": {
     "duration": 0.019261,
     "end_time": "2023-10-12T07:57:09.982557",
     "exception": false,
     "start_time": "2023-10-12T07:57:09.963296",
     "status": "completed"
    },
    "tags": []
   },
   "outputs": [],
   "source": [
    "class BahdanauAttention(nn.Module):\n",
    "    def __init__(self, hidden_size):\n",
    "        super().__init__()\n",
    "        self.Wa = nn.Linear(hidden_size, hidden_size)\n",
    "        self.Ua = nn.Linear(hidden_size, hidden_size)\n",
    "        self.Va = nn.Linear(hidden_size, 1)\n",
    "        \n",
    "    def forward(self, query, keys):\n",
    "        scores = self.Va(torch.tanh(self.Wa(query) + self.Ua(keys)))\n",
    "        scores = scores.squeeze(2).unsqueeze(1)\n",
    "        \n",
    "        weights = F.softmax(scores, dim=-1)\n",
    "        context = torch.bmm(weights, keys)\n",
    "        \n",
    "        return context, weights"
   ]
  },
  {
   "cell_type": "code",
   "execution_count": 21,
   "id": "bbd23732",
   "metadata": {
    "execution": {
     "iopub.execute_input": "2023-10-12T07:57:10.002151Z",
     "iopub.status.busy": "2023-10-12T07:57:10.001243Z",
     "iopub.status.idle": "2023-10-12T07:57:10.012266Z",
     "shell.execute_reply": "2023-10-12T07:57:10.010691Z"
    },
    "papermill": {
     "duration": 0.023593,
     "end_time": "2023-10-12T07:57:10.014975",
     "exception": false,
     "start_time": "2023-10-12T07:57:09.991382",
     "status": "completed"
    },
    "tags": []
   },
   "outputs": [],
   "source": [
    "class AttnDecoderRNN(nn.Module):\n",
    "    def __init__(self, hidden_size, output_size, dropout_p=0.1):\n",
    "        super().__init__()\n",
    "        self.embedding = nn.Embedding(output_size, hidden_size)\n",
    "        self.attention = BahdanauAttention(hidden_size)\n",
    "        self.gru = nn.GRU(2*hidden_size, hidden_size, batch_first=True)\n",
    "        self.out = nn.Linear(hidden_size, output_size)\n",
    "        self.dropout = nn.Dropout(dropout_p)\n",
    "        \n",
    "    def forward(self, encoder_outputs, encoder_hidden, target_tensor=None):\n",
    "        batch_size = encoder_outputs.size(0)\n",
    "        decoder_input = torch.empty(batch_size, 1, dtype=torch.long, device=device).fill_(SOS_token)\n",
    "        decoder_hidden = encoder_hidden\n",
    "        decoder_outputs = []\n",
    "        attentions = []\n",
    "        \n",
    "        for i in range(max_length):\n",
    "            decoder_output, decoder_hidden, attn_weights = self.forward_step(\n",
    "                decoder_input, decoder_hidden, encoder_outputs\n",
    "            )\n",
    "            decoder_outputs.append(decoder_output)\n",
    "            attentions.append(attn_weights)\n",
    "            \n",
    "            if target_tensor is not None:\n",
    "                # Teacher forcing\n",
    "                decoder_input = target_tensor[:, i].unsqueeze(1)\n",
    "            else:\n",
    "                # W/O teacher forcing\n",
    "                _, topi = decoder_output.topk(1)\n",
    "                decoder_input = topi.squeeze(-1).detach()\n",
    "        \n",
    "        decoder_outputs = torch.cat(decoder_outputs, dim=1)\n",
    "        decoder_outputs = F.log_softmax(decoder_outputs, dim=-1)\n",
    "        attentions = torch.cat(attentions, dim=1)\n",
    "        \n",
    "        return decoder_outputs, decoder_hidden, attentions\n",
    "    \n",
    "    def forward_step(self, input, hidden, encoder_outputs):\n",
    "        embedded = self.dropout(self.embedding(input))\n",
    "        \n",
    "        query = hidden.permute(1, 0, 2)\n",
    "        context, attn_weights = self.attention(query, encoder_outputs)\n",
    "        input_gru = torch.cat((embedded, context), dim=2)\n",
    "        \n",
    "        output, hidden = self.gru(input_gru, hidden)\n",
    "        output = self.out(output)\n",
    "        \n",
    "        return output, hidden, attn_weights"
   ]
  },
  {
   "cell_type": "code",
   "execution_count": 22,
   "id": "18989e4a",
   "metadata": {
    "execution": {
     "iopub.execute_input": "2023-10-12T07:57:10.034581Z",
     "iopub.status.busy": "2023-10-12T07:57:10.034242Z",
     "iopub.status.idle": "2023-10-12T08:23:56.924539Z",
     "shell.execute_reply": "2023-10-12T08:23:56.923246Z"
    },
    "papermill": {
     "duration": 1606.903755,
     "end_time": "2023-10-12T08:23:56.927239",
     "exception": false,
     "start_time": "2023-10-12T07:57:10.023484",
     "status": "completed"
    },
    "tags": []
   },
   "outputs": [
    {
     "name": "stdout",
     "output_type": "stream",
     "text": [
      "Reading lines...\n",
      "Read 135842 sentence pairs\n",
      "Trimed to 11452 sentence pairs\n",
      "Counting words....\n",
      "Counted words.\n",
      "fra 4603\n",
      "eng 2991\n",
      "(1, 38.74981999397278) (- (24, 41.247299909591675)) (5 6.25%) 1.5504\n",
      "(3, 16.91336727142334) (- (22, 58.39357089996338)) (10 12.5%) 0.6981\n",
      "(4, 54.87288212776184) (- (21, 17.782489220301386)) (15 18.75%) 0.3623\n",
      "(6, 34.20036268234253) (- (19, 42.60108804702759)) (20 25.0%) 0.1998\n",
      "(8, 12.230256795883179) (- (18, 2.906564950942993)) (25 31.25%) 0.1227\n",
      "(9, 50.82336497306824) (- (16, 24.705608288447138)) (30 37.5%) 0.0848\n",
      "(11, 31.503962755203247) (- (14, 49.076523542404175)) (35 43.75%) 0.0642\n",
      "(13, 9.151357889175415) (- (13, 9.151357889175415)) (40 50.0%) 0.0523\n",
      "(14, 49.47411108016968) (- (11, 31.813197506798588)) (45 56.25%) 0.0459\n",
      "(16, 33.65168213844299) (- (9, 56.191009283065796)) (50 62.5%) 0.0405\n",
      "(18, 14.452972650527954) (- (8, 17.4786239320581)) (55 68.75%) 0.0374\n",
      "(19, 55.18586754798889) (- (6, 38.395289182662964)) (60 75.0%) 0.0346\n",
      "(21, 34.82810592651367) (- (4, 58.80648598304151)) (65 81.25%) 0.0329\n",
      "(23, 15.930740594863892) (- (3, 19.418677227837634)) (70 87.5%) 0.0321\n",
      "(24, 57.76349949836731) (- (1, 39.85089996655779)) (75 93.75%) 0.0302\n",
      "(26, 42.63750457763672) (- (0, 0.0)) (80 100.0%) 0.0294\n"
     ]
    },
    {
     "data": {
      "text/plain": [
       "<Figure size 640x480 with 0 Axes>"
      ]
     },
     "metadata": {},
     "output_type": "display_data"
    },
    {
     "data": {
      "image/png": "[encoded data removed]",
      "text/plain": [
       "<Figure size 640x480 with 1 Axes>"
      ]
     },
     "metadata": {},
     "output_type": "display_data"
    }
   ],
   "source": [
    "hidden_size = 128\n",
    "batch_size = 32\n",
    "\n",
    "input_lang, output_lang, train_dataloader = get_dataloader(batch_size)\n",
    "\n",
    "encoder = EncoderRNN(input_lang.n_words, hidden_size).to(device)\n",
    "decoder = AttnDecoderRNN(hidden_size, output_lang.n_words).to(device)\n",
    "\n",
    "train(train_dataloader, encoder, decoder, 80, print_every=5, plot_every=5)"
   ]
  },
  {
   "cell_type": "code",
   "execution_count": 23,
   "id": "3d0ce734",
   "metadata": {
    "execution": {
     "iopub.execute_input": "2023-10-12T08:23:56.949740Z",
     "iopub.status.busy": "2023-10-12T08:23:56.949227Z",
     "iopub.status.idle": "2023-10-12T08:23:57.017056Z",
     "shell.execute_reply": "2023-10-12T08:23:57.015165Z"
    },
    "papermill": {
     "duration": 0.082069,
     "end_time": "2023-10-12T08:23:57.019579",
     "exception": false,
     "start_time": "2023-10-12T08:23:56.937510",
     "status": "completed"
    },
    "tags": []
   },
   "outputs": [
    {
     "name": "stdout",
     "output_type": "stream",
     "text": [
      "> je ne suis pas institutrice\n",
      "= i m not a teacher\n",
      "< i m not a teacher <EOS>\n",
      "\n",
      "> je suis etudiant\n",
      "= i am a university student\n",
      "< i m a student <EOS>\n",
      "\n",
      "> vous ne devez pas quitter cette piece\n",
      "= you are not to leave this room\n",
      "< you are not to leave this room room <EOS>\n",
      "\n",
      "> nous sommes pretes\n",
      "= we re ready\n",
      "< we re ready for this <EOS>\n",
      "\n",
      "> nous avons un hiver doux cette annee\n",
      "= we are having a mild winter\n",
      "< we are having a mild winter <EOS>\n",
      "\n",
      "> je suis le plus grand de notre classe\n",
      "= i am the tallest in our class\n",
      "< i am the tallest in our class <EOS>\n",
      "\n",
      "> je suis votre debiteur\n",
      "= i am in your debt\n",
      "< i am in your debt <EOS>\n",
      "\n",
      "> je suis en cours de concentration\n",
      "= i m concentrating\n",
      "< i m concentrating <EOS>\n",
      "\n",
      "> c est un ecrivain de talent\n",
      "= he s a talented writer\n",
      "< he s a talented writer <EOS>\n",
      "\n",
      "> je suis partant pour aller ou que tu ailles\n",
      "= i m willing to go anywhere you go\n",
      "< i m willing to go anywhere you go <EOS>\n",
      "\n"
     ]
    }
   ],
   "source": [
    "encoder.eval()\n",
    "decoder.eval()\n",
    "evaluate_randomly(encoder, decoder)"
   ]
  },
  {
   "cell_type": "code",
   "execution_count": 24,
   "id": "8a30ad81",
   "metadata": {
    "execution": {
     "iopub.execute_input": "2023-10-12T08:23:57.042911Z",
     "iopub.status.busy": "2023-10-12T08:23:57.041454Z",
     "iopub.status.idle": "2023-10-12T08:23:57.049100Z",
     "shell.execute_reply": "2023-10-12T08:23:57.048045Z"
    },
    "papermill": {
     "duration": 0.021767,
     "end_time": "2023-10-12T08:23:57.051519",
     "exception": false,
     "start_time": "2023-10-12T08:23:57.029752",
     "status": "completed"
    },
    "tags": []
   },
   "outputs": [],
   "source": [
    "def show_attention(input_sentence, output_words, attentions):\n",
    "    fig = plt.figure()\n",
    "    ax = fig.add_subplot(111)\n",
    "    cax = ax.matshow(attentions.cpu().numpy(), cmap='bone')\n",
    "    fig.colorbar(cax)\n",
    "    \n",
    "    ax.set_xticklabels([''] + input_sentence.split(' ') + ['<EOS>'], rotation=90)\n",
    "    ax.set_yticklabels([''] + output_words)\n",
    "    \n",
    "    ax.xaxis.set_major_locator(ticker.MultipleLocator(1))\n",
    "    ax.yaxis.set_major_locator(ticker.MultipleLocator(1))\n",
    "    \n",
    "    plt.show()"
   ]
  },
  {
   "cell_type": "code",
   "execution_count": 25,
   "id": "277169fd",
   "metadata": {
    "execution": {
     "iopub.execute_input": "2023-10-12T08:23:57.073897Z",
     "iopub.status.busy": "2023-10-12T08:23:57.073250Z",
     "iopub.status.idle": "2023-10-12T08:23:57.079374Z",
     "shell.execute_reply": "2023-10-12T08:23:57.078426Z"
    },
    "papermill": {
     "duration": 0.019953,
     "end_time": "2023-10-12T08:23:57.081487",
     "exception": false,
     "start_time": "2023-10-12T08:23:57.061534",
     "status": "completed"
    },
    "tags": []
   },
   "outputs": [],
   "source": [
    "def evaluate_and_show_attention(input_sentence):\n",
    "    output_words, attentions = evaluate(encoder, decoder, input_sentence, input_lang, output_lang)\n",
    "    print('input =', input_sentence)\n",
    "    print('output =', ' '.join(output_words))\n",
    "    show_attention(input_sentence, output_words, attentions[0, :len(output_words), :])"
   ]
  },
  {
   "cell_type": "code",
   "execution_count": 26,
   "id": "c50ed5d7",
   "metadata": {
    "execution": {
     "iopub.execute_input": "2023-10-12T08:23:57.104341Z",
     "iopub.status.busy": "2023-10-12T08:23:57.103684Z",
     "iopub.status.idle": "2023-10-12T08:23:57.588176Z",
     "shell.execute_reply": "2023-10-12T08:23:57.586150Z"
    },
    "papermill": {
     "duration": 0.499008,
     "end_time": "2023-10-12T08:23:57.590812",
     "exception": false,
     "start_time": "2023-10-12T08:23:57.091804",
     "status": "completed"
    },
    "tags": []
   },
   "outputs": [
    {
     "name": "stdout",
     "output_type": "stream",
     "text": [
      "input = il n est pas aussi grand que son pere\n",
      "output = he is not as tall as his father <EOS>\n"
     ]
    },
    {
     "name": "stderr",
     "output_type": "stream",
     "text": [
      "/tmp/ipykernel_20/262605619.py:7: UserWarning: FixedFormatter should only be used together with FixedLocator\n",
      "  ax.set_xticklabels([''] + input_sentence.split(' ') + ['<EOS>'], rotation=90)\n",
      "/tmp/ipykernel_20/262605619.py:8: UserWarning: FixedFormatter should only be used together with FixedLocator\n",
      "  ax.set_yticklabels([''] + output_words)\n"
     ]
    },
    {
     "data": {
      "image/png": "[encoded data removed]",
      "text/plain": [
       "<Figure size 640x480 with 2 Axes>"
      ]
     },
     "metadata": {},
     "output_type": "display_data"
    }
   ],
   "source": [
    "evaluate_and_show_attention('il n est pas aussi grand que son pere')"
   ]
  },
  {
   "cell_type": "code",
   "execution_count": 27,
   "id": "78b9832e",
   "metadata": {
    "execution": {
     "iopub.execute_input": "2023-10-12T08:23:57.615654Z",
     "iopub.status.busy": "2023-10-12T08:23:57.615300Z",
     "iopub.status.idle": "2023-10-12T08:23:58.048014Z",
     "shell.execute_reply": "2023-10-12T08:23:58.046793Z"
    },
    "papermill": {
     "duration": 0.448608,
     "end_time": "2023-10-12T08:23:58.050324",
     "exception": false,
     "start_time": "2023-10-12T08:23:57.601716",
     "status": "completed"
    },
    "tags": []
   },
   "outputs": [
    {
     "name": "stdout",
     "output_type": "stream",
     "text": [
      "input = je suis trop fatigue pour conduire\n",
      "output = i m too sleepy to drive <EOS>\n"
     ]
    },
    {
     "name": "stderr",
     "output_type": "stream",
     "text": [
      "/tmp/ipykernel_20/262605619.py:7: UserWarning: FixedFormatter should only be used together with FixedLocator\n",
      "  ax.set_xticklabels([''] + input_sentence.split(' ') + ['<EOS>'], rotation=90)\n",
      "/tmp/ipykernel_20/262605619.py:8: UserWarning: FixedFormatter should only be used together with FixedLocator\n",
      "  ax.set_yticklabels([''] + output_words)\n"
     ]
    },
    {
     "data": {
      "image/png": "[encoded data removed]",
      "text/plain": [
       "<Figure size 640x480 with 2 Axes>"
      ]
     },
     "metadata": {},
     "output_type": "display_data"
    }
   ],
   "source": [
    "evaluate_and_show_attention('je suis trop fatigue pour conduire')"
   ]
  },
  {
   "cell_type": "code",
   "execution_count": 28,
   "id": "fe1f9f1e",
   "metadata": {
    "execution": {
     "iopub.execute_input": "2023-10-12T08:23:58.076708Z",
     "iopub.status.busy": "2023-10-12T08:23:58.075787Z",
     "iopub.status.idle": "2023-10-12T08:23:58.548104Z",
     "shell.execute_reply": "2023-10-12T08:23:58.546998Z"
    },
    "papermill": {
     "duration": 0.488518,
     "end_time": "2023-10-12T08:23:58.550313",
     "exception": false,
     "start_time": "2023-10-12T08:23:58.061795",
     "status": "completed"
    },
    "tags": []
   },
   "outputs": [
    {
     "name": "stdout",
     "output_type": "stream",
     "text": [
      "input = je suis desole si c est une question idiote\n",
      "output = i m sorry if this is a stupid question <EOS>\n"
     ]
    },
    {
     "name": "stderr",
     "output_type": "stream",
     "text": [
      "/tmp/ipykernel_20/262605619.py:7: UserWarning: FixedFormatter should only be used together with FixedLocator\n",
      "  ax.set_xticklabels([''] + input_sentence.split(' ') + ['<EOS>'], rotation=90)\n",
      "/tmp/ipykernel_20/262605619.py:8: UserWarning: FixedFormatter should only be used together with FixedLocator\n",
      "  ax.set_yticklabels([''] + output_words)\n"
     ]
    },
    {
     "data": {
      "image/png": "[encoded data removed]",
      "text/plain": [
       "<Figure size 640x480 with 2 Axes>"
      ]
     },
     "metadata": {},
     "output_type": "display_data"
    }
   ],
   "source": [
    "evaluate_and_show_attention('je suis desole si c est une question idiote')"
   ]
  },
  {
   "cell_type": "code",
   "execution_count": 29,
   "id": "ef5e445c",
   "metadata": {
    "execution": {
     "iopub.execute_input": "2023-10-12T08:23:58.575365Z",
     "iopub.status.busy": "2023-10-12T08:23:58.574601Z",
     "iopub.status.idle": "2023-10-12T08:23:58.996645Z",
     "shell.execute_reply": "2023-10-12T08:23:58.995567Z"
    },
    "papermill": {
     "duration": 0.437488,
     "end_time": "2023-10-12T08:23:58.999149",
     "exception": false,
     "start_time": "2023-10-12T08:23:58.561661",
     "status": "completed"
    },
    "tags": []
   },
   "outputs": [
    {
     "name": "stdout",
     "output_type": "stream",
     "text": [
      "input = je suis reellement fiere de vous\n",
      "output = i m really proud of you <EOS>\n"
     ]
    },
    {
     "name": "stderr",
     "output_type": "stream",
     "text": [
      "/tmp/ipykernel_20/262605619.py:7: UserWarning: FixedFormatter should only be used together with FixedLocator\n",
      "  ax.set_xticklabels([''] + input_sentence.split(' ') + ['<EOS>'], rotation=90)\n",
      "/tmp/ipykernel_20/262605619.py:8: UserWarning: FixedFormatter should only be used together with FixedLocator\n",
      "  ax.set_yticklabels([''] + output_words)\n"
     ]
    },
    {
     "data": {
      "image/png": "[encoded data removed]",
      "text/plain": [
       "<Figure size 640x480 with 2 Axes>"
      ]
     },
     "metadata": {},
     "output_type": "display_data"
    }
   ],
   "source": [
    "evaluate_and_show_attention('je suis reellement fiere de vous')"
   ]
  },
  {
   "cell_type": "code",
   "execution_count": null,
   "id": "72174cf4",
   "metadata": {
    "papermill": {
     "duration": 0.012065,
     "end_time": "2023-10-12T08:23:59.023675",
     "exception": false,
     "start_time": "2023-10-12T08:23:59.011610",
     "status": "completed"
    },
    "tags": []
   },
   "outputs": [],
   "source": []
  }
 ],
 "metadata": {
  "kernelspec": {
   "display_name": "Python 3",
   "language": "python",
   "name": "python3"
  },
  "language_info": {
   "codemirror_mode": {
    "name": "ipython",
    "version": 3
   },
   "file_extension": ".py",
   "mimetype": "text/x-python",
   "name": "python",
   "nbconvert_exporter": "python",
   "pygments_lexer": "ipython3",
   "version": "3.10.12"
  },
  "papermill": {
   "default_parameters": {},
   "duration": 2806.905411,
   "end_time": "2023-10-12T08:24:00.071666",
   "environment_variables": {},
   "exception": null,
   "input_path": "__notebook__.ipynb",
   "output_path": "__notebook__.ipynb",
   "parameters": {},
   "start_time": "2023-10-12T07:37:13.166255",
   "version": "2.4.0"
  }
 },
 "nbformat": 4,
 "nbformat_minor": 5
}
